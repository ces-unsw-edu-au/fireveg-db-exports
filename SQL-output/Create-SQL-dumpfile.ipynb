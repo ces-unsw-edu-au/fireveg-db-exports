{
 "cells": [
  {
   "cell_type": "markdown",
   "id": "0d76a643-2734-4314-b212-880c4f0b6bbe",
   "metadata": {},
   "source": [
    "# Fireveg DB - create SQL dump\n",
    "\n",
    "Author: [José R. Ferrer-Paris](https://github.com/jrfep)\n",
    "\n",
    "Date: July 2024\n",
    "\n",
    "This Jupyter Notebook documents a simple shell ([BASH](https://en.wikipedia.org/wiki/Bash_(Unix_shell))) script to export a SQL dumpfile from the Fireveg Database to a local folder. \n",
    "\n",
    "**Please note:**\n",
    "<div class=\"alert alert-warning\">\n",
    "    This code is intended for internal project management and  is documented for the sake of reproducibility.<br/>\n",
    "    🛂 Only users contributing directly to the project have access to the credentials for data download/upload. \n",
    "</div>"
   ]
  },
  {
   "cell_type": "markdown",
   "id": "c521193d-c64b-4110-82a5-7b4fac89a43a",
   "metadata": {},
   "source": [
    "## One script is all we need\n",
    "Once data has been imported into the database we can create a SQL dump of schema and data. \n",
    "\n",
    "To keep versioned copies of the files, we can run the following lines of code. "
   ]
  },
  {
   "cell_type": "code",
   "execution_count": 4,
   "id": "b2311cde-722d-4db5-a8a2-b8f805483acf",
   "metadata": {},
   "outputs": [],
   "source": [
    "%%bash\n",
    "\n",
    "#Read environment variables from local file\n",
    "set -a            \n",
    "source ../secrets/Renviron.local\n",
    "set +a\n",
    "\n",
    "# create directory if it doesn't exists\n",
    "mkdir -p ../data/dump\n",
    "\n",
    "## versioned file name\n",
    "TODAY=$(date \"+%Y-%m-%d\")\n",
    "\n",
    "## Create SQL with postgres\n",
    "pg_dump -h $DBHOST $DBNAME  -U $DBUSER > ../data/dump/${TODAY}-firevegdb.sql\n",
    "\n",
    "## compress with bzip2\n",
    "bzip2 ../data/dump/${TODAY}-firevegdb.sql"
   ]
  },
  {
   "cell_type": "markdown",
   "id": "ec5c0bac-9777-48dc-a996-54262f82bd0a",
   "metadata": {},
   "source": [
    "## Where is the data?\n",
    "<div class=\"alert alert-info\">\n",
    "We uploaded this compressed SQL dump file as a backup of the database content in a open access repository at:\n",
    "\n",
    "> Ferrer-Paris, José R.; Keith, David A. (2023). Fire Ecology Traits for Plants: Database snapshot (SQL dump). figshare. Dataset. https://doi.org/10.6084/m9.figshare.23361002\n",
    "</div>"
   ]
  },
  {
   "cell_type": "markdown",
   "id": "fa9bbcb8-38f3-49d4-b551-fce9e21b80eb",
   "metadata": {},
   "source": [
    "## That is it for now!\n",
    "\n",
    "✅ Job done! 😎👌🔥\n",
    "\n",
    "You can:\n",
    "- go [back home](../README.md),\n",
    "- continue navigating the repo on [GitHub](https://github.com/ces-unsw-edu-au/fireveg-db-exports)\n",
    "- continue exploring the repo on [OSF](https://osf.io/h96q2/).\n",
    "- visit the database at <http://fireecologyplants.net>"
   ]
  },
  {
   "cell_type": "code",
   "execution_count": null,
   "id": "7eb8a098-c949-4afd-8efe-081d1e5b7d28",
   "metadata": {},
   "outputs": [],
   "source": []
  }
 ],
 "metadata": {
  "kernelspec": {
   "display_name": "Python 3 (ipykernel)",
   "language": "python",
   "name": "python3"
  },
  "language_info": {
   "codemirror_mode": {
    "name": "ipython",
    "version": 3
   },
   "file_extension": ".py",
   "mimetype": "text/x-python",
   "name": "python",
   "nbconvert_exporter": "python",
   "pygments_lexer": "ipython3",
   "version": "3.11.3"
  }
 },
 "nbformat": 4,
 "nbformat_minor": 5
}
