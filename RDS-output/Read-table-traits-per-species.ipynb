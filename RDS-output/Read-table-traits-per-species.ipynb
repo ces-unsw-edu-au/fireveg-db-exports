{
 "cells": [
  {
   "cell_type": "markdown",
   "id": "ebcf7b28-b2b2-4fff-89b9-692f55207cee",
   "metadata": {},
   "source": [
    "# Fire response traits in plants from field samples\n",
    "\n",
    "This script contains examples of R code to query tables in the database\n",
    "\n",
    "## Load libraries"
   ]
  },
  {
   "cell_type": "code",
   "execution_count": 1,
   "id": "f24bd72f-1086-4c75-a7b8-395ac8eb79ce",
   "metadata": {},
   "outputs": [
    {
     "name": "stderr",
     "output_type": "stream",
     "text": [
      "\n",
      "Attaching package: ‘dplyr’\n",
      "\n",
      "\n",
      "The following objects are masked from ‘package:stats’:\n",
      "\n",
      "    filter, lag\n",
      "\n",
      "\n",
      "The following objects are masked from ‘package:base’:\n",
      "\n",
      "    intersect, setdiff, setequal, union\n",
      "\n",
      "\n",
      "Loading required package: tidyr\n",
      "\n",
      "\n",
      "Attaching package: ‘galah’\n",
      "\n",
      "\n",
      "The following object is masked from ‘package:tidyr’:\n",
      "\n",
      "    unnest\n",
      "\n",
      "\n",
      "The following object is masked from ‘package:dplyr’:\n",
      "\n",
      "    desc\n",
      "\n",
      "\n",
      "The following object is masked from ‘package:stats’:\n",
      "\n",
      "    filter\n",
      "\n",
      "\n",
      "Linking to GEOS 3.11.0, GDAL 3.5.3, PROJ 9.1.0; sf_use_s2() is TRUE\n",
      "\n"
     ]
    }
   ],
   "source": [
    "library(dplyr)\n",
    "require(tidyr)\n",
    "library(ozmaps)\n",
    "library(galah)\n",
    "library(data.tree)\n",
    "library(sf)"
   ]
  },
  {
   "cell_type": "code",
   "execution_count": 2,
   "id": "8b9e8208-4da1-42da-b270-52603552e29c",
   "metadata": {},
   "outputs": [
    {
     "name": "stderr",
     "output_type": "stream",
     "text": [
      "here() starts at /Users/z3529065/proyectos/fireveg/fireveg-db-exports\n",
      "\n"
     ]
    }
   ],
   "source": [
    "here::i_am(\"RDS-output/Read-table-traits-per-species.ipynb\")"
   ]
  },
  {
   "cell_type": "code",
   "execution_count": 3,
   "id": "6bb7d0ec-cd62-48c6-a34a-36f92f6fc33e",
   "metadata": {},
   "outputs": [],
   "source": [
    "galah_config(email = readLines(here::here(\"secrets\",\"galah-email.txt\")))"
   ]
  },
  {
   "cell_type": "markdown",
   "id": "4e4a5152-22f5-499d-a4f3-60459ba39db2",
   "metadata": {},
   "source": [
    "### Read data"
   ]
  },
  {
   "cell_type": "code",
   "execution_count": 4,
   "id": "f6c75c45-cf6c-4711-ba3e-1edede998c92",
   "metadata": {},
   "outputs": [],
   "source": [
    "spp_traits_table <- readRDS(here::here(\"data\", \"output-Rdata\",\"Summary-traits-species.rds\"))\n"
   ]
  },
  {
   "cell_type": "markdown",
   "id": "01ddf2d4-b927-4aa4-a3a5-477702c9ef23",
   "metadata": {},
   "source": [
    "## Query taxonomy from Atlas of Living Australia"
   ]
  },
  {
   "cell_type": "code",
   "execution_count": 5,
   "id": "87309388-a012-42ea-bf30-e93ccd7ea46b",
   "metadata": {},
   "outputs": [],
   "source": [
    "nsw <- st_transform(ozmaps::ozmap_states, 4326) |> filter(NAME == \"New South Wales\")"
   ]
  },
  {
   "cell_type": "code",
   "execution_count": 6,
   "id": "73835b96-ca83-46ed-9800-2d486c0dc6f3",
   "metadata": {},
   "outputs": [],
   "source": [
    "ALA_taxonomy_file <- here::here('data','ALA','NSW-plants-according-to-ALA.rds')\n",
    "if (!file.exists(ALA_taxonomy_file)) {\n",
    "    if (!dir.exists(here::here('data','ALA')))\n",
    "        dir.create(here::here('data','ALA'))\n",
    "    plant_families <- galah_call() |>\n",
    "        galah_identify(\"plantae\") |>\n",
    "        galah_geolocate(nsw, type = \"bbox\")|>\n",
    "        filter(rank == \"family\") |>\n",
    "        atlas_taxonomy()\n",
    "    saveRDS(file=ALA_taxonomy_file,plant_families)\n",
    "} else {\n",
    "    plant_families <- readRDS(ALA_taxonomy_file)\n",
    "}"
   ]
  },
  {
   "cell_type": "code",
   "execution_count": 7,
   "id": "02baa569-365a-4a1e-ac59-4542c5f0a2bf",
   "metadata": {},
   "outputs": [
    {
     "name": "stdout",
     "output_type": "stream",
     "text": [
      "\u001b[90m# A tibble: 614 × 4\u001b[39m\n",
      "   name             rank     parent_taxon_concept_id            taxon_concept_id\n",
      "   \u001b[3m\u001b[90m<chr>\u001b[39m\u001b[23m            \u001b[3m\u001b[90m<chr>\u001b[39m\u001b[23m    \u001b[3m\u001b[90m<chr>\u001b[39m\u001b[23m                              \u001b[3m\u001b[90m<chr>\u001b[39m\u001b[23m           \n",
      "\u001b[90m 1\u001b[39m Plantae          kingdom  \u001b[31mNA\u001b[39m                                 https://id.biod…\n",
      "\u001b[90m 2\u001b[39m Anthocerotophyta phylum   https://id.biodiversity.org.au/ta… https://id.biod…\n",
      "\u001b[90m 3\u001b[39m Anthocerotopsida class    https://id.biodiversity.org.au/no… https://id.biod…\n",
      "\u001b[90m 4\u001b[39m Anthocerotidae   subclass https://id.biodiversity.org.au/no… https://id.biod…\n",
      "\u001b[90m 5\u001b[39m Anthocerotales   order    https://id.biodiversity.org.au/no… https://id.biod…\n",
      "\u001b[90m 6\u001b[39m Anthocerotaceae  family   https://id.biodiversity.org.au/no… https://id.biod…\n",
      "\u001b[90m 7\u001b[39m Dendrocerotidae  subclass https://id.biodiversity.org.au/no… https://id.biod…\n",
      "\u001b[90m 8\u001b[39m Dendrocerotales  order    https://id.biodiversity.org.au/no… https://id.biod…\n",
      "\u001b[90m 9\u001b[39m Dendrocerotaceae family   https://id.biodiversity.org.au/no… https://id.biod…\n",
      "\u001b[90m10\u001b[39m Notothylatidae   subclass https://id.biodiversity.org.au/no… https://id.biod…\n",
      "\u001b[90m# ℹ 604 more rows\u001b[39m\n"
     ]
    }
   ],
   "source": [
    "print(plant_families, pruneMethod = \"dist\", limit = 10)"
   ]
  },
  {
   "cell_type": "code",
   "execution_count": 8,
   "id": "bfd15585-5287-48c3-b9e3-33901a6be81e",
   "metadata": {},
   "outputs": [],
   "source": [
    "fams <- plant_families |> \n",
    "    filter(rank == \"family\") |>\n",
    "    select(family=name, family_concept_id=taxon_concept_id, order_concept_id=parent_taxon_concept_id)\n",
    "fams <- fams |>\n",
    "    left_join(plant_families, by=c(\"order_concept_id\" = \"taxon_concept_id\"))"
   ]
  },
  {
   "cell_type": "code",
   "execution_count": 9,
   "id": "039117be-7eff-4eaa-ac39-7b2ec39434de",
   "metadata": {},
   "outputs": [
    {
     "data": {
      "text/plain": [
       "\n",
       "     order   subclass   suborder superorder \n",
       "       405          2         36          3 "
      ]
     },
     "metadata": {},
     "output_type": "display_data"
    }
   ],
   "source": [
    "table(fams$rank)"
   ]
  },
  {
   "cell_type": "markdown",
   "id": "86d38f27-d2b8-4b18-b250-9d31337071f6",
   "metadata": {},
   "source": [
    "### update table with taxonomy\n",
    "Add column with the plant order from the taxonomy:"
   ]
  },
  {
   "cell_type": "code",
   "execution_count": 10,
   "id": "106c9bc8-651a-49db-b5ef-1d26725b64a0",
   "metadata": {},
   "outputs": [],
   "source": [
    "spp_traits_table$rank_order <- fams$name[match(spp_traits_table$family,fams$family)]"
   ]
  },
  {
   "cell_type": "code",
   "execution_count": 11,
   "id": "470db344-0c5f-49c4-837f-224aa698d4aa",
   "metadata": {},
   "outputs": [
    {
     "data": {
      "text/html": [
       "<table class=\"dataframe\">\n",
       "<caption>A tibble: 6 × 2</caption>\n",
       "<thead>\n",
       "\t<tr><th scope=col>family</th><th scope=col>spps</th></tr>\n",
       "\t<tr><th scope=col>&lt;chr&gt;</th><th scope=col>&lt;int&gt;</th></tr>\n",
       "</thead>\n",
       "<tbody>\n",
       "\t<tr><td>Fabaceae (Faboideae)       </td><td>923</td></tr>\n",
       "\t<tr><td>Fabaceae (Mimosoideae)     </td><td>452</td></tr>\n",
       "\t<tr><td>Fabaceae (Caesalpinioideae)</td><td>140</td></tr>\n",
       "\t<tr><td>Malaceae                   </td><td> 61</td></tr>\n",
       "\t<tr><td>Lomandraceae               </td><td> 47</td></tr>\n",
       "\t<tr><td>Anthericaceae              </td><td> 37</td></tr>\n",
       "</tbody>\n",
       "</table>\n"
      ],
      "text/latex": [
       "A tibble: 6 × 2\n",
       "\\begin{tabular}{ll}\n",
       " family & spps\\\\\n",
       " <chr> & <int>\\\\\n",
       "\\hline\n",
       "\t Fabaceae (Faboideae)        & 923\\\\\n",
       "\t Fabaceae (Mimosoideae)      & 452\\\\\n",
       "\t Fabaceae (Caesalpinioideae) & 140\\\\\n",
       "\t Malaceae                    &  61\\\\\n",
       "\t Lomandraceae                &  47\\\\\n",
       "\t Anthericaceae               &  37\\\\\n",
       "\\end{tabular}\n"
      ],
      "text/markdown": [
       "\n",
       "A tibble: 6 × 2\n",
       "\n",
       "| family &lt;chr&gt; | spps &lt;int&gt; |\n",
       "|---|---|\n",
       "| Fabaceae (Faboideae)        | 923 |\n",
       "| Fabaceae (Mimosoideae)      | 452 |\n",
       "| Fabaceae (Caesalpinioideae) | 140 |\n",
       "| Malaceae                    |  61 |\n",
       "| Lomandraceae                |  47 |\n",
       "| Anthericaceae               |  37 |\n",
       "\n"
      ],
      "text/plain": [
       "  family                      spps\n",
       "1 Fabaceae (Faboideae)        923 \n",
       "2 Fabaceae (Mimosoideae)      452 \n",
       "3 Fabaceae (Caesalpinioideae) 140 \n",
       "4 Malaceae                     61 \n",
       "5 Lomandraceae                 47 \n",
       "6 Anthericaceae                37 "
      ]
     },
     "metadata": {},
     "output_type": "display_data"
    }
   ],
   "source": [
    "spp_traits_table |> \n",
    "    filter(is.na(rank_order)) |>\n",
    "           group_by(family) |>\n",
    "    summarise(spps = n_distinct(spp)) |>\n",
    "    arrange(desc(spps)) |>\n",
    "    head()"
   ]
  },
  {
   "cell_type": "code",
   "execution_count": 12,
   "id": "35e20c91-39e0-4a8c-80e9-c7adeba2ec48",
   "metadata": {},
   "outputs": [],
   "source": [
    "fabales <- c(\"Fabaceae (Faboideae)\", \"Fabaceae (Mimosoideae)\", \"Fabaceae (Caesalpinioideae)\" )\n",
    "unplaced <- c(\"Dilleniaceae\", \"Flacourtiaceae\")\n",
    "single_family <- c(\"Boraginaceae\")\n",
    "rosales <- c(\"Malaceae\")\n",
    "lamiales <- c(\"Myoporaceae\", \"Buddlejaceae\")\n",
    "polypodiales <- c(\"Pteridaceae\")\n",
    "asparagales <- c(\"Anthericaceae\",\"Phormiaceae\",\"Lomandraceae\", \"Agavaceae\", \"Hyacinthaceae\")\n",
    "ranunculales <- c(\"Fumariaceae\")\n",
    "malvales <- c(\"Tiliaceae\")\n"
   ]
  },
  {
   "cell_type": "code",
   "execution_count": 13,
   "id": "5092c2b4-a89f-4db0-9089-6897f7857ec7",
   "metadata": {},
   "outputs": [],
   "source": [
    "spp_traits_table <- spp_traits_table %>% mutate(\n",
    "    rank_order = case_when(\n",
    "            family %in% fabales ~ \"Fabales\",\n",
    "            family %in% unplaced ~ \"unplaced\",\n",
    "            family %in% rosales ~ \"Rosales\",\n",
    "            family %in% lamiales ~ \"Lamiales\",\n",
    "            family %in% polypodiales ~ \"Polypodiales\",\n",
    "            family %in% asparagales ~ \"Asparagales\",\n",
    "            family %in% ranunculales ~ \"Ranunculales\",\n",
    "            family %in% malvales ~ \"Malvales\",\n",
    "            family %in% single_family ~ sprintf(\"fam. %s\",family),\n",
    "            is.na(rank_order) ~ \"unknown\",\n",
    "            TRUE ~ rank_order\n",
    "        ))"
   ]
  },
  {
   "cell_type": "code",
   "execution_count": 14,
   "id": "90aa0f59-c6d7-455c-beaa-edf311f5153e",
   "metadata": {},
   "outputs": [
    {
     "data": {
      "text/html": [
       "<table class=\"dataframe\">\n",
       "<caption>A tibble: 6 × 2</caption>\n",
       "<thead>\n",
       "\t<tr><th scope=col>family</th><th scope=col>spps</th></tr>\n",
       "\t<tr><th scope=col>&lt;chr&gt;</th><th scope=col>&lt;int&gt;</th></tr>\n",
       "</thead>\n",
       "<tbody>\n",
       "\t<tr><td>Unknown Flora  </td><td>32</td></tr>\n",
       "\t<tr><td>Athyriaceae    </td><td>15</td></tr>\n",
       "\t<tr><td>Viscaceae      </td><td>13</td></tr>\n",
       "\t<tr><td>Stackhousiaceae</td><td>12</td></tr>\n",
       "\t<tr><td>Adoxaceae      </td><td>10</td></tr>\n",
       "\t<tr><td>Magnoliaceae   </td><td>10</td></tr>\n",
       "</tbody>\n",
       "</table>\n"
      ],
      "text/latex": [
       "A tibble: 6 × 2\n",
       "\\begin{tabular}{ll}\n",
       " family & spps\\\\\n",
       " <chr> & <int>\\\\\n",
       "\\hline\n",
       "\t Unknown Flora   & 32\\\\\n",
       "\t Athyriaceae     & 15\\\\\n",
       "\t Viscaceae       & 13\\\\\n",
       "\t Stackhousiaceae & 12\\\\\n",
       "\t Adoxaceae       & 10\\\\\n",
       "\t Magnoliaceae    & 10\\\\\n",
       "\\end{tabular}\n"
      ],
      "text/markdown": [
       "\n",
       "A tibble: 6 × 2\n",
       "\n",
       "| family &lt;chr&gt; | spps &lt;int&gt; |\n",
       "|---|---|\n",
       "| Unknown Flora   | 32 |\n",
       "| Athyriaceae     | 15 |\n",
       "| Viscaceae       | 13 |\n",
       "| Stackhousiaceae | 12 |\n",
       "| Adoxaceae       | 10 |\n",
       "| Magnoliaceae    | 10 |\n",
       "\n"
      ],
      "text/plain": [
       "  family          spps\n",
       "1 Unknown Flora   32  \n",
       "2 Athyriaceae     15  \n",
       "3 Viscaceae       13  \n",
       "4 Stackhousiaceae 12  \n",
       "5 Adoxaceae       10  \n",
       "6 Magnoliaceae    10  "
      ]
     },
     "metadata": {},
     "output_type": "display_data"
    }
   ],
   "source": [
    "spp_traits_table |> \n",
    "    filter(rank_order %in% c(NA,\"unknown\")) |>\n",
    "           group_by(family) |>\n",
    "    summarise(spps = n_distinct(spp)) |>\n",
    "    arrange(desc(spps)) |>\n",
    "    head()"
   ]
  },
  {
   "cell_type": "markdown",
   "id": "21ada4ce-853e-4cfd-89b2-c9baf4373bde",
   "metadata": {},
   "source": [
    "Need to check this again, according to David, there should be around 6000 plant species in NSW, is this list including that many synonyms?"
   ]
  },
  {
   "cell_type": "code",
   "execution_count": 15,
   "id": "397ca898-ca10-425e-b6b0-9b4cc440bdf7",
   "metadata": {},
   "outputs": [
    {
     "data": {
      "text/plain": [
       "\n",
       "false  true \n",
       " 3627 12530 "
      ]
     },
     "metadata": {},
     "output_type": "display_data"
    }
   ],
   "source": [
    "table(spp_traits_table$current)"
   ]
  },
  {
   "cell_type": "code",
   "execution_count": 16,
   "id": "92311507-927a-44ba-8259-bceec0ad5d74",
   "metadata": {},
   "outputs": [
    {
     "data": {
      "text/html": [
       "<table class=\"dataframe\">\n",
       "<caption>A tibble: 9 × 5</caption>\n",
       "<thead>\n",
       "\t<tr><th scope=col>establishment</th><th scope=col>taxonrank %in% \"Species\"</th><th scope=col>total</th><th scope=col>nspp</th><th scope=col>ncurrent</th></tr>\n",
       "\t<tr><th scope=col>&lt;chr&gt;</th><th scope=col>&lt;lgl&gt;</th><th scope=col>&lt;int&gt;</th><th scope=col>&lt;int&gt;</th><th scope=col>&lt;int&gt;</th></tr>\n",
       "</thead>\n",
       "<tbody>\n",
       "\t<tr><td>Alive in NSW, Native  </td><td>FALSE</td><td> 1813</td><td> 1813</td><td>1251</td></tr>\n",
       "\t<tr><td>Alive in NSW, Native  </td><td> TRUE</td><td>10556</td><td>10556</td><td>8169</td></tr>\n",
       "\t<tr><td>Extinct in NSW, Native</td><td>FALSE</td><td>    9</td><td>    9</td><td>   4</td></tr>\n",
       "\t<tr><td>Extinct in NSW, Native</td><td> TRUE</td><td>   38</td><td>   38</td><td>  28</td></tr>\n",
       "\t<tr><td>Hybrid                </td><td>FALSE</td><td>    1</td><td>    1</td><td>   1</td></tr>\n",
       "\t<tr><td>Introduced            </td><td>FALSE</td><td>  399</td><td>  399</td><td> 242</td></tr>\n",
       "\t<tr><td>Introduced            </td><td> TRUE</td><td> 3309</td><td> 3309</td><td>2804</td></tr>\n",
       "\t<tr><td>Not Known from NSW    </td><td>FALSE</td><td>    5</td><td>    5</td><td>   5</td></tr>\n",
       "\t<tr><td>Not Known from NSW    </td><td> TRUE</td><td>   27</td><td>   27</td><td>  26</td></tr>\n",
       "</tbody>\n",
       "</table>\n"
      ],
      "text/latex": [
       "A tibble: 9 × 5\n",
       "\\begin{tabular}{lllll}\n",
       " establishment & taxonrank \\%in\\% \"Species\" & total & nspp & ncurrent\\\\\n",
       " <chr> & <lgl> & <int> & <int> & <int>\\\\\n",
       "\\hline\n",
       "\t Alive in NSW, Native   & FALSE &  1813 &  1813 & 1251\\\\\n",
       "\t Alive in NSW, Native   &  TRUE & 10556 & 10556 & 8169\\\\\n",
       "\t Extinct in NSW, Native & FALSE &     9 &     9 &    4\\\\\n",
       "\t Extinct in NSW, Native &  TRUE &    38 &    38 &   28\\\\\n",
       "\t Hybrid                 & FALSE &     1 &     1 &    1\\\\\n",
       "\t Introduced             & FALSE &   399 &   399 &  242\\\\\n",
       "\t Introduced             &  TRUE &  3309 &  3309 & 2804\\\\\n",
       "\t Not Known from NSW     & FALSE &     5 &     5 &    5\\\\\n",
       "\t Not Known from NSW     &  TRUE &    27 &    27 &   26\\\\\n",
       "\\end{tabular}\n"
      ],
      "text/markdown": [
       "\n",
       "A tibble: 9 × 5\n",
       "\n",
       "| establishment &lt;chr&gt; | taxonrank %in% \"Species\" &lt;lgl&gt; | total &lt;int&gt; | nspp &lt;int&gt; | ncurrent &lt;int&gt; |\n",
       "|---|---|---|---|---|\n",
       "| Alive in NSW, Native   | FALSE |  1813 |  1813 | 1251 |\n",
       "| Alive in NSW, Native   |  TRUE | 10556 | 10556 | 8169 |\n",
       "| Extinct in NSW, Native | FALSE |     9 |     9 |    4 |\n",
       "| Extinct in NSW, Native |  TRUE |    38 |    38 |   28 |\n",
       "| Hybrid                 | FALSE |     1 |     1 |    1 |\n",
       "| Introduced             | FALSE |   399 |   399 |  242 |\n",
       "| Introduced             |  TRUE |  3309 |  3309 | 2804 |\n",
       "| Not Known from NSW     | FALSE |     5 |     5 |    5 |\n",
       "| Not Known from NSW     |  TRUE |    27 |    27 |   26 |\n",
       "\n"
      ],
      "text/plain": [
       "  establishment          taxonrank %in% \"Species\" total nspp  ncurrent\n",
       "1 Alive in NSW, Native   FALSE                     1813  1813 1251    \n",
       "2 Alive in NSW, Native    TRUE                    10556 10556 8169    \n",
       "3 Extinct in NSW, Native FALSE                        9     9    4    \n",
       "4 Extinct in NSW, Native  TRUE                       38    38   28    \n",
       "5 Hybrid                 FALSE                        1     1    1    \n",
       "6 Introduced             FALSE                      399   399  242    \n",
       "7 Introduced              TRUE                     3309  3309 2804    \n",
       "8 Not Known from NSW     FALSE                        5     5    5    \n",
       "9 Not Known from NSW      TRUE                       27    27   26    "
      ]
     },
     "metadata": {},
     "output_type": "display_data"
    }
   ],
   "source": [
    "spp_traits_table %>%\n",
    "    #filter(current %in% \"true\") %>%\n",
    "    group_by(establishment,taxonrank %in% \"Species\") %>%\n",
    "    summarise(total=n(), nspp = n_distinct(spp), ncurrent=n_distinct(current_species), .groups = \"drop\") "
   ]
  },
  {
   "cell_type": "markdown",
   "id": "230c4ee8-2d33-4e2f-9bb1-e07d82e23f8e",
   "metadata": {},
   "source": [
    "Examine records for species that are not current:"
   ]
  },
  {
   "cell_type": "code",
   "execution_count": 17,
   "id": "7935ecbb-6da6-4a20-b08c-a210c90aa21b",
   "metadata": {},
   "outputs": [
    {
     "data": {
      "text/html": [
       "<table class=\"dataframe\">\n",
       "<caption>A data.frame: 6 × 25</caption>\n",
       "<thead>\n",
       "\t<tr><th></th><th scope=col>family</th><th scope=col>genus</th><th scope=col>spp</th><th scope=col>scientific_name</th><th scope=col>current_spp</th><th scope=col>current_species</th><th scope=col>taxonrank</th><th scope=col>establishment</th><th scope=col>current</th><th scope=col>nquadrat</th><th scope=col>⋯</th><th scope=col>repr2</th><th scope=col>surv5</th><th scope=col>surv6</th><th scope=col>surv7</th><th scope=col>disp1</th><th scope=col>repr3a</th><th scope=col>repr3</th><th scope=col>surv4</th><th scope=col>surv1</th><th scope=col>rank_order</th></tr>\n",
       "\t<tr><th></th><th scope=col>&lt;chr&gt;</th><th scope=col>&lt;chr&gt;</th><th scope=col>&lt;dbl&gt;</th><th scope=col>&lt;chr&gt;</th><th scope=col>&lt;dbl&gt;</th><th scope=col>&lt;chr&gt;</th><th scope=col>&lt;chr&gt;</th><th scope=col>&lt;chr&gt;</th><th scope=col>&lt;chr&gt;</th><th scope=col>&lt;dbl&gt;</th><th scope=col>⋯</th><th scope=col>&lt;dbl&gt;</th><th scope=col>&lt;dbl&gt;</th><th scope=col>&lt;dbl&gt;</th><th scope=col>&lt;dbl&gt;</th><th scope=col>&lt;dbl&gt;</th><th scope=col>&lt;dbl&gt;</th><th scope=col>&lt;dbl&gt;</th><th scope=col>&lt;dbl&gt;</th><th scope=col>&lt;dbl&gt;</th><th scope=col>&lt;chr&gt;</th></tr>\n",
       "</thead>\n",
       "<tbody>\n",
       "\t<tr><th scope=row>7</th><td>Poaceae             </td><td>Anthosachne</td><td>1.167971e-320</td><td>Elymus scaber                               </td><td>1.133979e-319</td><td>Anthosachne scabra                  </td><td>Species   </td><td>Alive in NSW, Native</td><td>false</td><td>4.940656e-324</td><td>⋯</td><td>0</td><td>0</td><td>0</td><td>0</td><td> 0.000000e+00</td><td>4.940656e-324</td><td>0</td><td>4.940656e-324</td><td>1.482197e-323</td><td>Poales      </td></tr>\n",
       "\t<tr><th scope=row>12</th><td>Ericaceae           </td><td>Agiortia   </td><td>1.170442e-320</td><td>Leucopogon pedicillatus                     </td><td>8.518186e-320</td><td>Agiortia pedicellata                </td><td>Species   </td><td>Alive in NSW, Native</td><td>false</td><td> 0.000000e+00</td><td>⋯</td><td>0</td><td>0</td><td>0</td><td>0</td><td> 0.000000e+00</td><td> 0.000000e+00</td><td>0</td><td> 0.000000e+00</td><td> 0.000000e+00</td><td>Ericales    </td></tr>\n",
       "\t<tr><th scope=row>14</th><td>Fabaceae (Faboideae)</td><td>Abrus      </td><td>1.171430e-320</td><td>Abrus precatorius                           </td><td>6.625420e-320</td><td>Abrus precatorius subsp. precatorius</td><td>Subspecies</td><td>Introduced          </td><td>false</td><td> 0.000000e+00</td><td>⋯</td><td>0</td><td>0</td><td>0</td><td>0</td><td>9.881313e-324</td><td> 0.000000e+00</td><td>0</td><td> 0.000000e+00</td><td>4.940656e-324</td><td>Fabales     </td></tr>\n",
       "\t<tr><th scope=row>15</th><td>Poaceae             </td><td>Paractaenum</td><td>1.171924e-320</td><td>Paractaenum novae-hollandiae subsp. reversum</td><td>1.732688e-320</td><td>Paractaenum novae-hollandiae        </td><td>Species   </td><td>Alive in NSW, Native</td><td>false</td><td> 0.000000e+00</td><td>⋯</td><td>0</td><td>0</td><td>0</td><td>0</td><td> 0.000000e+00</td><td> 0.000000e+00</td><td>0</td><td> 0.000000e+00</td><td> 0.000000e+00</td><td>Poales      </td></tr>\n",
       "\t<tr><th scope=row>17</th><td>Pteridaceae         </td><td>Adiantum   </td><td>1.172912e-320</td><td>Adiantum silvaticum var. silvaticum         </td><td>3.738595e-320</td><td>Adiantum silvaticum                 </td><td>Species   </td><td>Alive in NSW, Native</td><td>false</td><td> 0.000000e+00</td><td>⋯</td><td>0</td><td>0</td><td>0</td><td>0</td><td> 0.000000e+00</td><td> 0.000000e+00</td><td>0</td><td> 0.000000e+00</td><td> 0.000000e+00</td><td>Polypodiales</td></tr>\n",
       "\t<tr><th scope=row>28</th><td>Plantaginaceae      </td><td>Linaria    </td><td>1.178347e-320</td><td>Linaria genistifolia                        </td><td>6.265741e-320</td><td>Linaria dalmatica                   </td><td>Species   </td><td>Introduced          </td><td>false</td><td> 0.000000e+00</td><td>⋯</td><td>0</td><td>0</td><td>0</td><td>0</td><td> 0.000000e+00</td><td> 0.000000e+00</td><td>0</td><td> 0.000000e+00</td><td> 0.000000e+00</td><td>Lamiales    </td></tr>\n",
       "</tbody>\n",
       "</table>\n"
      ],
      "text/latex": [
       "A data.frame: 6 × 25\n",
       "\\begin{tabular}{r|lllllllllllllllllllll}\n",
       "  & family & genus & spp & scientific\\_name & current\\_spp & current\\_species & taxonrank & establishment & current & nquadrat & ⋯ & repr2 & surv5 & surv6 & surv7 & disp1 & repr3a & repr3 & surv4 & surv1 & rank\\_order\\\\\n",
       "  & <chr> & <chr> & <dbl> & <chr> & <dbl> & <chr> & <chr> & <chr> & <chr> & <dbl> & ⋯ & <dbl> & <dbl> & <dbl> & <dbl> & <dbl> & <dbl> & <dbl> & <dbl> & <dbl> & <chr>\\\\\n",
       "\\hline\n",
       "\t7 & Poaceae              & Anthosachne & 1.167971e-320 & Elymus scaber                                & 1.133979e-319 & Anthosachne scabra                   & Species    & Alive in NSW, Native & false & 4.940656e-324 & ⋯ & 0 & 0 & 0 & 0 &  0.000000e+00 & 4.940656e-324 & 0 & 4.940656e-324 & 1.482197e-323 & Poales      \\\\\n",
       "\t12 & Ericaceae            & Agiortia    & 1.170442e-320 & Leucopogon pedicillatus                      & 8.518186e-320 & Agiortia pedicellata                 & Species    & Alive in NSW, Native & false &  0.000000e+00 & ⋯ & 0 & 0 & 0 & 0 &  0.000000e+00 &  0.000000e+00 & 0 &  0.000000e+00 &  0.000000e+00 & Ericales    \\\\\n",
       "\t14 & Fabaceae (Faboideae) & Abrus       & 1.171430e-320 & Abrus precatorius                            & 6.625420e-320 & Abrus precatorius subsp. precatorius & Subspecies & Introduced           & false &  0.000000e+00 & ⋯ & 0 & 0 & 0 & 0 & 9.881313e-324 &  0.000000e+00 & 0 &  0.000000e+00 & 4.940656e-324 & Fabales     \\\\\n",
       "\t15 & Poaceae              & Paractaenum & 1.171924e-320 & Paractaenum novae-hollandiae subsp. reversum & 1.732688e-320 & Paractaenum novae-hollandiae         & Species    & Alive in NSW, Native & false &  0.000000e+00 & ⋯ & 0 & 0 & 0 & 0 &  0.000000e+00 &  0.000000e+00 & 0 &  0.000000e+00 &  0.000000e+00 & Poales      \\\\\n",
       "\t17 & Pteridaceae          & Adiantum    & 1.172912e-320 & Adiantum silvaticum var. silvaticum          & 3.738595e-320 & Adiantum silvaticum                  & Species    & Alive in NSW, Native & false &  0.000000e+00 & ⋯ & 0 & 0 & 0 & 0 &  0.000000e+00 &  0.000000e+00 & 0 &  0.000000e+00 &  0.000000e+00 & Polypodiales\\\\\n",
       "\t28 & Plantaginaceae       & Linaria     & 1.178347e-320 & Linaria genistifolia                         & 6.265741e-320 & Linaria dalmatica                    & Species    & Introduced           & false &  0.000000e+00 & ⋯ & 0 & 0 & 0 & 0 &  0.000000e+00 &  0.000000e+00 & 0 &  0.000000e+00 &  0.000000e+00 & Lamiales    \\\\\n",
       "\\end{tabular}\n"
      ],
      "text/markdown": [
       "\n",
       "A data.frame: 6 × 25\n",
       "\n",
       "| <!--/--> | family &lt;chr&gt; | genus &lt;chr&gt; | spp &lt;dbl&gt; | scientific_name &lt;chr&gt; | current_spp &lt;dbl&gt; | current_species &lt;chr&gt; | taxonrank &lt;chr&gt; | establishment &lt;chr&gt; | current &lt;chr&gt; | nquadrat &lt;dbl&gt; | ⋯ ⋯ | repr2 &lt;dbl&gt; | surv5 &lt;dbl&gt; | surv6 &lt;dbl&gt; | surv7 &lt;dbl&gt; | disp1 &lt;dbl&gt; | repr3a &lt;dbl&gt; | repr3 &lt;dbl&gt; | surv4 &lt;dbl&gt; | surv1 &lt;dbl&gt; | rank_order &lt;chr&gt; |\n",
       "|---|---|---|---|---|---|---|---|---|---|---|---|---|---|---|---|---|---|---|---|---|---|\n",
       "| 7 | Poaceae              | Anthosachne | 1.167971e-320 | Elymus scaber                                | 1.133979e-319 | Anthosachne scabra                   | Species    | Alive in NSW, Native | false | 4.940656e-324 | ⋯ | 0 | 0 | 0 | 0 |  0.000000e+00 | 4.940656e-324 | 0 | 4.940656e-324 | 1.482197e-323 | Poales       |\n",
       "| 12 | Ericaceae            | Agiortia    | 1.170442e-320 | Leucopogon pedicillatus                      | 8.518186e-320 | Agiortia pedicellata                 | Species    | Alive in NSW, Native | false |  0.000000e+00 | ⋯ | 0 | 0 | 0 | 0 |  0.000000e+00 |  0.000000e+00 | 0 |  0.000000e+00 |  0.000000e+00 | Ericales     |\n",
       "| 14 | Fabaceae (Faboideae) | Abrus       | 1.171430e-320 | Abrus precatorius                            | 6.625420e-320 | Abrus precatorius subsp. precatorius | Subspecies | Introduced           | false |  0.000000e+00 | ⋯ | 0 | 0 | 0 | 0 | 9.881313e-324 |  0.000000e+00 | 0 |  0.000000e+00 | 4.940656e-324 | Fabales      |\n",
       "| 15 | Poaceae              | Paractaenum | 1.171924e-320 | Paractaenum novae-hollandiae subsp. reversum | 1.732688e-320 | Paractaenum novae-hollandiae         | Species    | Alive in NSW, Native | false |  0.000000e+00 | ⋯ | 0 | 0 | 0 | 0 |  0.000000e+00 |  0.000000e+00 | 0 |  0.000000e+00 |  0.000000e+00 | Poales       |\n",
       "| 17 | Pteridaceae          | Adiantum    | 1.172912e-320 | Adiantum silvaticum var. silvaticum          | 3.738595e-320 | Adiantum silvaticum                  | Species    | Alive in NSW, Native | false |  0.000000e+00 | ⋯ | 0 | 0 | 0 | 0 |  0.000000e+00 |  0.000000e+00 | 0 |  0.000000e+00 |  0.000000e+00 | Polypodiales |\n",
       "| 28 | Plantaginaceae       | Linaria     | 1.178347e-320 | Linaria genistifolia                         | 6.265741e-320 | Linaria dalmatica                    | Species    | Introduced           | false |  0.000000e+00 | ⋯ | 0 | 0 | 0 | 0 |  0.000000e+00 |  0.000000e+00 | 0 |  0.000000e+00 |  0.000000e+00 | Lamiales     |\n",
       "\n"
      ],
      "text/plain": [
       "   family               genus       spp          \n",
       "7  Poaceae              Anthosachne 1.167971e-320\n",
       "12 Ericaceae            Agiortia    1.170442e-320\n",
       "14 Fabaceae (Faboideae) Abrus       1.171430e-320\n",
       "15 Poaceae              Paractaenum 1.171924e-320\n",
       "17 Pteridaceae          Adiantum    1.172912e-320\n",
       "28 Plantaginaceae       Linaria     1.178347e-320\n",
       "   scientific_name                              current_spp  \n",
       "7  Elymus scaber                                1.133979e-319\n",
       "12 Leucopogon pedicillatus                      8.518186e-320\n",
       "14 Abrus precatorius                            6.625420e-320\n",
       "15 Paractaenum novae-hollandiae subsp. reversum 1.732688e-320\n",
       "17 Adiantum silvaticum var. silvaticum          3.738595e-320\n",
       "28 Linaria genistifolia                         6.265741e-320\n",
       "   current_species                      taxonrank  establishment        current\n",
       "7  Anthosachne scabra                   Species    Alive in NSW, Native false  \n",
       "12 Agiortia pedicellata                 Species    Alive in NSW, Native false  \n",
       "14 Abrus precatorius subsp. precatorius Subspecies Introduced           false  \n",
       "15 Paractaenum novae-hollandiae         Species    Alive in NSW, Native false  \n",
       "17 Adiantum silvaticum                  Species    Alive in NSW, Native false  \n",
       "28 Linaria dalmatica                    Species    Introduced           false  \n",
       "   nquadrat      ⋯ repr2 surv5 surv6 surv7 disp1         repr3a        repr3\n",
       "7  4.940656e-324 ⋯ 0     0     0     0      0.000000e+00 4.940656e-324 0    \n",
       "12  0.000000e+00 ⋯ 0     0     0     0      0.000000e+00  0.000000e+00 0    \n",
       "14  0.000000e+00 ⋯ 0     0     0     0     9.881313e-324  0.000000e+00 0    \n",
       "15  0.000000e+00 ⋯ 0     0     0     0      0.000000e+00  0.000000e+00 0    \n",
       "17  0.000000e+00 ⋯ 0     0     0     0      0.000000e+00  0.000000e+00 0    \n",
       "28  0.000000e+00 ⋯ 0     0     0     0      0.000000e+00  0.000000e+00 0    \n",
       "   surv4         surv1         rank_order  \n",
       "7  4.940656e-324 1.482197e-323 Poales      \n",
       "12  0.000000e+00  0.000000e+00 Ericales    \n",
       "14  0.000000e+00 4.940656e-324 Fabales     \n",
       "15  0.000000e+00  0.000000e+00 Poales      \n",
       "17  0.000000e+00  0.000000e+00 Polypodiales\n",
       "28  0.000000e+00  0.000000e+00 Lamiales    "
      ]
     },
     "metadata": {},
     "output_type": "display_data"
    }
   ],
   "source": [
    "head(subset(spp_traits_table, current %in% \"false\"))"
   ]
  },
  {
   "cell_type": "code",
   "execution_count": 18,
   "id": "e327b083-8e9d-4c08-97a2-f15898e50741",
   "metadata": {},
   "outputs": [
    {
     "data": {
      "text/html": [
       "<table class=\"dataframe\">\n",
       "<caption>A data.frame: 5 × 25</caption>\n",
       "<thead>\n",
       "\t<tr><th scope=col>family</th><th scope=col>genus</th><th scope=col>spp</th><th scope=col>scientific_name</th><th scope=col>current_spp</th><th scope=col>current_species</th><th scope=col>taxonrank</th><th scope=col>establishment</th><th scope=col>current</th><th scope=col>nquadrat</th><th scope=col>⋯</th><th scope=col>repr2</th><th scope=col>surv5</th><th scope=col>surv6</th><th scope=col>surv7</th><th scope=col>disp1</th><th scope=col>repr3a</th><th scope=col>repr3</th><th scope=col>surv4</th><th scope=col>surv1</th><th scope=col>rank_order</th></tr>\n",
       "\t<tr><th scope=col>&lt;chr&gt;</th><th scope=col>&lt;chr&gt;</th><th scope=col>&lt;int64&gt;</th><th scope=col>&lt;chr&gt;</th><th scope=col>&lt;int64&gt;</th><th scope=col>&lt;chr&gt;</th><th scope=col>&lt;chr&gt;</th><th scope=col>&lt;chr&gt;</th><th scope=col>&lt;chr&gt;</th><th scope=col>&lt;int64&gt;</th><th scope=col>⋯</th><th scope=col>&lt;int64&gt;</th><th scope=col>&lt;int64&gt;</th><th scope=col>&lt;int64&gt;</th><th scope=col>&lt;int64&gt;</th><th scope=col>&lt;int64&gt;</th><th scope=col>&lt;int64&gt;</th><th scope=col>&lt;int64&gt;</th><th scope=col>&lt;int64&gt;</th><th scope=col>&lt;int64&gt;</th><th scope=col>&lt;chr&gt;</th></tr>\n",
       "</thead>\n",
       "<tbody>\n",
       "\t<tr><td>Brassicaceae</td><td>Lepidium  </td><td>1.165007e-320</td><td>Lepidium oxytrichum    </td><td>1.165007e-320</td><td>Lepidium oxytrichum    </td><td>Species</td><td>Alive in NSW, Native</td><td>true</td><td>0</td><td>⋯</td><td>0</td><td> 0.000000e+00</td><td>0</td><td> 0.000000e+00</td><td>2.470328e-323</td><td>0</td><td> 0.000000e+00</td><td>0</td><td>1.482197e-323</td><td>Brassicales</td></tr>\n",
       "\t<tr><td>Myrtaceae   </td><td>Eucalyptus</td><td>1.165501e-320</td><td>Eucalyptus williamsiana</td><td>1.165501e-320</td><td>Eucalyptus williamsiana</td><td>Species</td><td>Alive in NSW, Native</td><td>true</td><td>0</td><td>⋯</td><td>0</td><td> 0.000000e+00</td><td>0</td><td> 0.000000e+00</td><td> 0.000000e+00</td><td>0</td><td> 0.000000e+00</td><td>0</td><td>2.964394e-323</td><td>Myrtales   </td></tr>\n",
       "\t<tr><td>Myrtaceae   </td><td>Melaleuca </td><td>1.165995e-320</td><td>Melaleuca glomerata    </td><td>1.165995e-320</td><td>Melaleuca glomerata    </td><td>Species</td><td>Alive in NSW, Native</td><td>true</td><td>0</td><td>⋯</td><td>0</td><td> 0.000000e+00</td><td>0</td><td> 0.000000e+00</td><td>9.881313e-324</td><td>0</td><td> 0.000000e+00</td><td>0</td><td>2.964394e-323</td><td>Myrtales   </td></tr>\n",
       "\t<tr><td>Apiaceae    </td><td>Actinotus </td><td>1.166489e-320</td><td>Actinotus helianthi    </td><td>1.166489e-320</td><td>Actinotus helianthi    </td><td>Species</td><td>Alive in NSW, Native</td><td>true</td><td>0</td><td>⋯</td><td>0</td><td>9.881313e-324</td><td>0</td><td>4.940656e-324</td><td>1.482197e-323</td><td>0</td><td>1.482197e-323</td><td>0</td><td>7.905050e-323</td><td>Apiales    </td></tr>\n",
       "\t<tr><td>Apiaceae    </td><td>Apium     </td><td>1.166983e-320</td><td>Apium prostratum       </td><td>1.166983e-320</td><td>Apium prostratum       </td><td>Species</td><td>Alive in NSW, Native</td><td>true</td><td>0</td><td>⋯</td><td>0</td><td> 0.000000e+00</td><td>0</td><td> 0.000000e+00</td><td>1.976263e-323</td><td>0</td><td> 0.000000e+00</td><td>0</td><td>4.940656e-324</td><td>Apiales    </td></tr>\n",
       "</tbody>\n",
       "</table>\n"
      ],
      "text/latex": [
       "A data.frame: 5 × 25\n",
       "\\begin{tabular}{lllllllllllllllllllll}\n",
       " family & genus & spp & scientific\\_name & current\\_spp & current\\_species & taxonrank & establishment & current & nquadrat & ⋯ & repr2 & surv5 & surv6 & surv7 & disp1 & repr3a & repr3 & surv4 & surv1 & rank\\_order\\\\\n",
       " <chr> & <chr> & <int64> & <chr> & <int64> & <chr> & <chr> & <chr> & <chr> & <int64> & ⋯ & <int64> & <int64> & <int64> & <int64> & <int64> & <int64> & <int64> & <int64> & <int64> & <chr>\\\\\n",
       "\\hline\n",
       "\t Brassicaceae & Lepidium   & 1.165007e-320 & Lepidium oxytrichum     & 1.165007e-320 & Lepidium oxytrichum     & Species & Alive in NSW, Native & true & 0 & ⋯ & 0 &  0.000000e+00 & 0 &  0.000000e+00 & 2.470328e-323 & 0 &  0.000000e+00 & 0 & 1.482197e-323 & Brassicales\\\\\n",
       "\t Myrtaceae    & Eucalyptus & 1.165501e-320 & Eucalyptus williamsiana & 1.165501e-320 & Eucalyptus williamsiana & Species & Alive in NSW, Native & true & 0 & ⋯ & 0 &  0.000000e+00 & 0 &  0.000000e+00 &  0.000000e+00 & 0 &  0.000000e+00 & 0 & 2.964394e-323 & Myrtales   \\\\\n",
       "\t Myrtaceae    & Melaleuca  & 1.165995e-320 & Melaleuca glomerata     & 1.165995e-320 & Melaleuca glomerata     & Species & Alive in NSW, Native & true & 0 & ⋯ & 0 &  0.000000e+00 & 0 &  0.000000e+00 & 9.881313e-324 & 0 &  0.000000e+00 & 0 & 2.964394e-323 & Myrtales   \\\\\n",
       "\t Apiaceae     & Actinotus  & 1.166489e-320 & Actinotus helianthi     & 1.166489e-320 & Actinotus helianthi     & Species & Alive in NSW, Native & true & 0 & ⋯ & 0 & 9.881313e-324 & 0 & 4.940656e-324 & 1.482197e-323 & 0 & 1.482197e-323 & 0 & 7.905050e-323 & Apiales    \\\\\n",
       "\t Apiaceae     & Apium      & 1.166983e-320 & Apium prostratum        & 1.166983e-320 & Apium prostratum        & Species & Alive in NSW, Native & true & 0 & ⋯ & 0 &  0.000000e+00 & 0 &  0.000000e+00 & 1.976263e-323 & 0 &  0.000000e+00 & 0 & 4.940656e-324 & Apiales    \\\\\n",
       "\\end{tabular}\n"
      ],
      "text/markdown": [
       "\n",
       "A data.frame: 5 × 25\n",
       "\n",
       "| family &lt;chr&gt; | genus &lt;chr&gt; | spp &lt;int64&gt; | scientific_name &lt;chr&gt; | current_spp &lt;int64&gt; | current_species &lt;chr&gt; | taxonrank &lt;chr&gt; | establishment &lt;chr&gt; | current &lt;chr&gt; | nquadrat &lt;int64&gt; | ⋯ ⋯ | repr2 &lt;int64&gt; | surv5 &lt;int64&gt; | surv6 &lt;int64&gt; | surv7 &lt;int64&gt; | disp1 &lt;int64&gt; | repr3a &lt;int64&gt; | repr3 &lt;int64&gt; | surv4 &lt;int64&gt; | surv1 &lt;int64&gt; | rank_order &lt;chr&gt; |\n",
       "|---|---|---|---|---|---|---|---|---|---|---|---|---|---|---|---|---|---|---|---|---|\n",
       "| Brassicaceae | Lepidium   | 1.165007e-320 | Lepidium oxytrichum     | 1.165007e-320 | Lepidium oxytrichum     | Species | Alive in NSW, Native | true | 0 | ⋯ | 0 |  0.000000e+00 | 0 |  0.000000e+00 | 2.470328e-323 | 0 |  0.000000e+00 | 0 | 1.482197e-323 | Brassicales |\n",
       "| Myrtaceae    | Eucalyptus | 1.165501e-320 | Eucalyptus williamsiana | 1.165501e-320 | Eucalyptus williamsiana | Species | Alive in NSW, Native | true | 0 | ⋯ | 0 |  0.000000e+00 | 0 |  0.000000e+00 |  0.000000e+00 | 0 |  0.000000e+00 | 0 | 2.964394e-323 | Myrtales    |\n",
       "| Myrtaceae    | Melaleuca  | 1.165995e-320 | Melaleuca glomerata     | 1.165995e-320 | Melaleuca glomerata     | Species | Alive in NSW, Native | true | 0 | ⋯ | 0 |  0.000000e+00 | 0 |  0.000000e+00 | 9.881313e-324 | 0 |  0.000000e+00 | 0 | 2.964394e-323 | Myrtales    |\n",
       "| Apiaceae     | Actinotus  | 1.166489e-320 | Actinotus helianthi     | 1.166489e-320 | Actinotus helianthi     | Species | Alive in NSW, Native | true | 0 | ⋯ | 0 | 9.881313e-324 | 0 | 4.940656e-324 | 1.482197e-323 | 0 | 1.482197e-323 | 0 | 7.905050e-323 | Apiales     |\n",
       "| Apiaceae     | Apium      | 1.166983e-320 | Apium prostratum        | 1.166983e-320 | Apium prostratum        | Species | Alive in NSW, Native | true | 0 | ⋯ | 0 |  0.000000e+00 | 0 |  0.000000e+00 | 1.976263e-323 | 0 |  0.000000e+00 | 0 | 4.940656e-324 | Apiales     |\n",
       "\n"
      ],
      "text/plain": [
       "  family       genus      spp           scientific_name         current_spp  \n",
       "1 Brassicaceae Lepidium   1.165007e-320 Lepidium oxytrichum     1.165007e-320\n",
       "2 Myrtaceae    Eucalyptus 1.165501e-320 Eucalyptus williamsiana 1.165501e-320\n",
       "3 Myrtaceae    Melaleuca  1.165995e-320 Melaleuca glomerata     1.165995e-320\n",
       "4 Apiaceae     Actinotus  1.166489e-320 Actinotus helianthi     1.166489e-320\n",
       "5 Apiaceae     Apium      1.166983e-320 Apium prostratum        1.166983e-320\n",
       "  current_species         taxonrank establishment        current nquadrat ⋯\n",
       "1 Lepidium oxytrichum     Species   Alive in NSW, Native true    0        ⋯\n",
       "2 Eucalyptus williamsiana Species   Alive in NSW, Native true    0        ⋯\n",
       "3 Melaleuca glomerata     Species   Alive in NSW, Native true    0        ⋯\n",
       "4 Actinotus helianthi     Species   Alive in NSW, Native true    0        ⋯\n",
       "5 Apium prostratum        Species   Alive in NSW, Native true    0        ⋯\n",
       "  repr2 surv5         surv6 surv7         disp1         repr3a repr3        \n",
       "1 0      0.000000e+00 0      0.000000e+00 2.470328e-323 0       0.000000e+00\n",
       "2 0      0.000000e+00 0      0.000000e+00  0.000000e+00 0       0.000000e+00\n",
       "3 0      0.000000e+00 0      0.000000e+00 9.881313e-324 0       0.000000e+00\n",
       "4 0     9.881313e-324 0     4.940656e-324 1.482197e-323 0      1.482197e-323\n",
       "5 0      0.000000e+00 0      0.000000e+00 1.976263e-323 0       0.000000e+00\n",
       "  surv4 surv1         rank_order \n",
       "1 0     1.482197e-323 Brassicales\n",
       "2 0     2.964394e-323 Myrtales   \n",
       "3 0     2.964394e-323 Myrtales   \n",
       "4 0     7.905050e-323 Apiales    \n",
       "5 0     4.940656e-324 Apiales    "
      ]
     },
     "metadata": {},
     "output_type": "display_data"
    }
   ],
   "source": [
    "spp_traits_table %>% slice(1:5)"
   ]
  },
  {
   "cell_type": "markdown",
   "id": "38be6090-d188-4ea5-9b9c-6cdd6e4521db",
   "metadata": {},
   "source": [
    "## Literature vs. field work data\n",
    "Let's check how many valid species have information from both sources\n"
   ]
  },
  {
   "cell_type": "code",
   "execution_count": 19,
   "id": "53a27ef4-2b12-459d-82dc-fc51edfbb79d",
   "metadata": {},
   "outputs": [
    {
     "data": {
      "text/html": [
       "<table class=\"dataframe\">\n",
       "<caption>A tibble: 4 × 4</caption>\n",
       "<thead>\n",
       "\t<tr><th scope=col>fieldwork_sources</th><th scope=col>literature_sources</th><th scope=col>total</th><th scope=col>total_current</th></tr>\n",
       "\t<tr><th scope=col>&lt;lgl&gt;</th><th scope=col>&lt;lgl&gt;</th><th scope=col>&lt;int&gt;</th><th scope=col>&lt;int&gt;</th></tr>\n",
       "</thead>\n",
       "<tbody>\n",
       "\t<tr><td>FALSE</td><td>FALSE</td><td>4574</td><td>3844</td></tr>\n",
       "\t<tr><td>FALSE</td><td> TRUE</td><td>5129</td><td>4843</td></tr>\n",
       "\t<tr><td> TRUE</td><td>FALSE</td><td>  87</td><td>  87</td></tr>\n",
       "\t<tr><td> TRUE</td><td> TRUE</td><td> 724</td><td> 723</td></tr>\n",
       "</tbody>\n",
       "</table>\n"
      ],
      "text/latex": [
       "A tibble: 4 × 4\n",
       "\\begin{tabular}{llll}\n",
       " fieldwork\\_sources & literature\\_sources & total & total\\_current\\\\\n",
       " <lgl> & <lgl> & <int> & <int>\\\\\n",
       "\\hline\n",
       "\t FALSE & FALSE & 4574 & 3844\\\\\n",
       "\t FALSE &  TRUE & 5129 & 4843\\\\\n",
       "\t  TRUE & FALSE &   87 &   87\\\\\n",
       "\t  TRUE &  TRUE &  724 &  723\\\\\n",
       "\\end{tabular}\n"
      ],
      "text/markdown": [
       "\n",
       "A tibble: 4 × 4\n",
       "\n",
       "| fieldwork_sources &lt;lgl&gt; | literature_sources &lt;lgl&gt; | total &lt;int&gt; | total_current &lt;int&gt; |\n",
       "|---|---|---|---|\n",
       "| FALSE | FALSE | 4574 | 3844 |\n",
       "| FALSE |  TRUE | 5129 | 4843 |\n",
       "|  TRUE | FALSE |   87 |   87 |\n",
       "|  TRUE |  TRUE |  724 |  723 |\n",
       "\n"
      ],
      "text/plain": [
       "  fieldwork_sources literature_sources total total_current\n",
       "1 FALSE             FALSE              4574  3844         \n",
       "2 FALSE              TRUE              5129  4843         \n",
       "3  TRUE             FALSE                87    87         \n",
       "4  TRUE              TRUE               724   723         "
      ]
     },
     "metadata": {},
     "output_type": "display_data"
    }
   ],
   "source": [
    " spp_traits_table |> \n",
    "    filter(\n",
    "        #current %in% \"true\", \n",
    "           taxonrank %in% \"Species\",\n",
    "           establishment %in% \"Alive in NSW, Native\") |>\n",
    "    mutate(\n",
    "     fieldwork_sources =  nquadrat>0,\n",
    "     literature_sources = (disp1 +\n",
    "                           germ1 + germ8 + \n",
    "                           rect2 + \n",
    "                           grow1 + \n",
    "                           repr2 + repr3a + repr3 + repr4 +  \n",
    "                           surv1 + surv4 + surv5 + surv6 + surv7) > 0\n",
    "    ) |> \n",
    "    group_by(fieldwork_sources, literature_sources) |>\n",
    "    summarise(total = n_distinct(scientific_name), total_current = n_distinct(current_species), .groups = \"drop\")"
   ]
  },
  {
   "cell_type": "code",
   "execution_count": 20,
   "id": "f807e267-af50-4a87-9250-499592ed32c6",
   "metadata": {},
   "outputs": [
    {
     "data": {
      "text/html": [
       "5653"
      ],
      "text/latex": [
       "5653"
      ],
      "text/markdown": [
       "5653"
      ],
      "text/plain": [
       "[1] 5653"
      ]
     },
     "metadata": {},
     "output_type": "display_data"
    }
   ],
   "source": [
    "4843+87+723"
   ]
  },
  {
   "cell_type": "code",
   "execution_count": 21,
   "id": "e0244a6d-0b72-4466-a664-6f60ff874f7e",
   "metadata": {},
   "outputs": [
    {
     "data": {
      "text/html": [
       "218"
      ],
      "text/latex": [
       "218"
      ],
      "text/markdown": [
       "218"
      ],
      "text/plain": [
       "[1] 218"
      ]
     },
     "metadata": {},
     "output_type": "display_data"
    }
   ],
   "source": [
    "sum(spp_traits_table$repr2>0)"
   ]
  },
  {
   "cell_type": "code",
   "execution_count": 22,
   "id": "5b64901b-b582-402f-9ba9-c01ba064f135",
   "metadata": {},
   "outputs": [],
   "source": [
    "saveRDS(file=here::here('data', 'output-Rdata', 'Summary-traits-species-orders.rds'),spp_traits_table)"
   ]
  },
  {
   "cell_type": "code",
   "execution_count": null,
   "id": "8ad65156-c7a4-4057-9908-a116894e3d74",
   "metadata": {},
   "outputs": [],
   "source": []
  },
  {
   "cell_type": "code",
   "execution_count": null,
   "id": "7a30d4d5-29d8-4c5e-aed7-9a2edbcc3f11",
   "metadata": {},
   "outputs": [],
   "source": []
  }
 ],
 "metadata": {
  "kernelspec": {
   "display_name": "R",
   "language": "R",
   "name": "ir"
  },
  "language_info": {
   "codemirror_mode": "r",
   "file_extension": ".r",
   "mimetype": "text/x-r-source",
   "name": "R",
   "pygments_lexer": "r",
   "version": "4.3.1"
  }
 },
 "nbformat": 4,
 "nbformat_minor": 5
}
