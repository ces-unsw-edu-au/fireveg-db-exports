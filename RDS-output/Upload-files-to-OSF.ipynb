{
 "cells": [
  {
   "cell_type": "markdown",
   "id": "3697197d-cfbc-47d3-a21b-9f9b349a71a6",
   "metadata": {},
   "source": [
    "# Fireveg DB - Data upload to OSF"
   ]
  },
  {
   "cell_type": "markdown",
   "id": "66738929-adaf-4b93-b72e-b4a3773cb6d9",
   "metadata": {},
   "source": [
    "By: [José R. Ferrer-Paris](https://github.com/jrfep)\n",
    "\n",
    "Date: Wed 14 Aug 2024\n",
    "\n",
    "This Jupyter Notebook includes R code to upload data from the Fireveg Database to a [OSF repository](https://osf.io/h96q2/). We use OSF as a convenient cloud storage option for project management. Check the previous Notebook on how we [Read tables from the database](./Read-tables-from-database.ipynb).\n",
    "\n",
    "**Please note:**\n",
    "<div class=\"alert alert-warning\">\n",
    "    This code is intended for internal project management and  is documented for the sake of reproducibility.<br/>\n",
    "    🛂 Only users contributing directly to the project have access to the credentials for data download/upload. \n",
    "</div>"
   ]
  },
  {
   "cell_type": "markdown",
   "id": "15b6f674-9879-4103-8147-15f5149bc517",
   "metadata": {},
   "source": [
    "## Set-up\n",
    "\n",
    "### Packages\n",
    "We are using R for this. Start your session and load the packages."
   ]
  },
  {
   "cell_type": "code",
   "execution_count": 1,
   "id": "b49490be-8c30-47f6-b904-d41952fed802",
   "metadata": {
    "tags": []
   },
   "outputs": [
    {
     "name": "stderr",
     "output_type": "stream",
     "text": [
      "\n",
      "Attaching package: ‘dplyr’\n",
      "\n",
      "\n",
      "The following objects are masked from ‘package:stats’:\n",
      "\n",
      "    filter, lag\n",
      "\n",
      "\n",
      "The following objects are masked from ‘package:base’:\n",
      "\n",
      "    intersect, setdiff, setequal, union\n",
      "\n",
      "\n",
      "Automatically registered OSF personal access token\n",
      "\n"
     ]
    }
   ],
   "source": [
    "library(dplyr)\n",
    "library(osfr)\n",
    "library(stringr)"
   ]
  },
  {
   "cell_type": "markdown",
   "id": "de78e5db-76ae-4e82-a0d0-4ce6aad12557",
   "metadata": {},
   "source": [
    "### Working directory and relative paths\n",
    "Using the functions from `here` package to find the root of the project directory."
   ]
  },
  {
   "cell_type": "code",
   "execution_count": 2,
   "id": "6798d3e6-a87f-48f8-9c23-8bfcde894d2c",
   "metadata": {
    "tags": []
   },
   "outputs": [
    {
     "name": "stderr",
     "output_type": "stream",
     "text": [
      "here() starts at /Users/z3529065/proyectos/fireveg/fireveg-db-exports\n",
      "\n"
     ]
    }
   ],
   "source": [
    "here::i_am(\"RDS-output/Upload-files-to-OSF.ipynb\")"
   ]
  },
  {
   "cell_type": "markdown",
   "id": "30aad2a0-4c9c-499d-8596-e9a84a4c065d",
   "metadata": {},
   "source": [
    "### OSF credentials\n",
    "\n",
    "🤫 We use a folder named \"secrets\" to keep the credentials for connection to different services (database credentials, API keys, etc). This checked this folder in our `.gitignore` so that its content are not tracked by git and not exposed. Future users need to copy the contents of this folder manually.\n",
    "\n",
    "We will use `readRenviron` function to (re-)load the `Renviron.local` file in our `secrets` folder."
   ]
  },
  {
   "cell_type": "code",
   "execution_count": 3,
   "id": "7b902fb7-05e6-450b-8a84-0abc980d51bc",
   "metadata": {},
   "outputs": [],
   "source": [
    "readRenviron(here::here(\"secrets\",\"Renviron.local\"))"
   ]
  },
  {
   "cell_type": "markdown",
   "id": "e05ae206-d419-4ef9-a9d0-d349d11e1ee9",
   "metadata": {},
   "source": [
    "## Upload to OSF project\n",
    "\n",
    "### Retrieve OSF node\n",
    "\n",
    "We use the `osfr` package to interact with the OSF API. We can establish the values of some parameters beforehand."
   ]
  },
  {
   "cell_type": "code",
   "execution_count": 4,
   "id": "bca4c6ff-0c2d-4529-9fda-7f5ead4f57a9",
   "metadata": {},
   "outputs": [],
   "source": [
    "# conflict_answer <- \"skip\" # should we skip? \n",
    "conflict_answer <- \"overwrite\" # or overwrite ?\n",
    "osfcode <- \"h96q2\""
   ]
  },
  {
   "cell_type": "markdown",
   "id": "378fd59c-6721-4534-850f-ef85fb297d36",
   "metadata": {},
   "source": [
    "We use `osf_retrieve_node` to connect to our project or project component:"
   ]
  },
  {
   "cell_type": "code",
   "execution_count": 5,
   "id": "4e5021be-e6cb-40bb-bd76-7408877916a1",
   "metadata": {
    "tags": []
   },
   "outputs": [
    {
     "data": {
      "text/html": [
       "'Export data records from Fire Ecology Traits for Plants database'"
      ],
      "text/latex": [
       "'Export data records from Fire Ecology Traits for Plants database'"
      ],
      "text/markdown": [
       "'Export data records from Fire Ecology Traits for Plants database'"
      ],
      "text/plain": [
       "[1] \"Export data records from Fire Ecology Traits for Plants database\""
      ]
     },
     "metadata": {},
     "output_type": "display_data"
    }
   ],
   "source": [
    "osf_project <- osf_retrieve_node(sprintf(\"https://osf.io/%s\", osfcode))\n",
    "osf_project$name"
   ]
  },
  {
   "cell_type": "markdown",
   "id": "819c62f8-2795-4b4b-a462-ddfd370a8b05",
   "metadata": {
    "tags": []
   },
   "source": [
    "### Read list of files to upload\n",
    "We ran the previous Notebook [Read tables from the database](./Read-tables-from-database.ipynb) 📝 to create a series of files in RDS and GPKG format in the data folder.\n",
    "We will add all these files to the list of files to upload.\n"
   ]
  },
  {
   "cell_type": "code",
   "execution_count": 6,
   "id": "776495b2-7344-40de-9792-5518434e2e4b",
   "metadata": {
    "tags": []
   },
   "outputs": [
    {
     "data": {
      "text/html": [
       "<style>\n",
       ".list-inline {list-style: none; margin:0; padding: 0}\n",
       ".list-inline>li {display: inline-block}\n",
       ".list-inline>li:not(:last-child)::after {content: \"\\00b7\"; padding: 0 .5ex}\n",
       "</style>\n",
       "<ol class=list-inline><li>'/Users/z3529065/proyectos/fireveg/fireveg-db-exports/data/output-Rdata/field-sites.gpkg'</li><li>'/Users/z3529065/proyectos/fireveg/fireveg-db-exports/data/output-Rdata/fire-history.rds'</li><li>'/Users/z3529065/proyectos/fireveg/fireveg-db-exports/data/output-Rdata/Quadrat-sample-data.rds'</li><li>'/Users/z3529065/proyectos/fireveg/fireveg-db-exports/data/output-Rdata/site-visits.rds'</li><li>'/Users/z3529065/proyectos/fireveg/fireveg-db-exports/data/output-Rdata/Summary-traits-family.rds'</li><li>'/Users/z3529065/proyectos/fireveg/fireveg-db-exports/data/output-Rdata/Summary-traits-sources.rds'</li><li>'/Users/z3529065/proyectos/fireveg/fireveg-db-exports/data/output-Rdata/Summary-traits-species.rds'</li><li>'/Users/z3529065/proyectos/fireveg/fireveg-db-exports/data/output-Rdata/Trait-info.rds'</li></ol>\n"
      ],
      "text/latex": [
       "\\begin{enumerate*}\n",
       "\\item '/Users/z3529065/proyectos/fireveg/fireveg-db-exports/data/output-Rdata/field-sites.gpkg'\n",
       "\\item '/Users/z3529065/proyectos/fireveg/fireveg-db-exports/data/output-Rdata/fire-history.rds'\n",
       "\\item '/Users/z3529065/proyectos/fireveg/fireveg-db-exports/data/output-Rdata/Quadrat-sample-data.rds'\n",
       "\\item '/Users/z3529065/proyectos/fireveg/fireveg-db-exports/data/output-Rdata/site-visits.rds'\n",
       "\\item '/Users/z3529065/proyectos/fireveg/fireveg-db-exports/data/output-Rdata/Summary-traits-family.rds'\n",
       "\\item '/Users/z3529065/proyectos/fireveg/fireveg-db-exports/data/output-Rdata/Summary-traits-sources.rds'\n",
       "\\item '/Users/z3529065/proyectos/fireveg/fireveg-db-exports/data/output-Rdata/Summary-traits-species.rds'\n",
       "\\item '/Users/z3529065/proyectos/fireveg/fireveg-db-exports/data/output-Rdata/Trait-info.rds'\n",
       "\\end{enumerate*}\n"
      ],
      "text/markdown": [
       "1. '/Users/z3529065/proyectos/fireveg/fireveg-db-exports/data/output-Rdata/field-sites.gpkg'\n",
       "2. '/Users/z3529065/proyectos/fireveg/fireveg-db-exports/data/output-Rdata/fire-history.rds'\n",
       "3. '/Users/z3529065/proyectos/fireveg/fireveg-db-exports/data/output-Rdata/Quadrat-sample-data.rds'\n",
       "4. '/Users/z3529065/proyectos/fireveg/fireveg-db-exports/data/output-Rdata/site-visits.rds'\n",
       "5. '/Users/z3529065/proyectos/fireveg/fireveg-db-exports/data/output-Rdata/Summary-traits-family.rds'\n",
       "6. '/Users/z3529065/proyectos/fireveg/fireveg-db-exports/data/output-Rdata/Summary-traits-sources.rds'\n",
       "7. '/Users/z3529065/proyectos/fireveg/fireveg-db-exports/data/output-Rdata/Summary-traits-species.rds'\n",
       "8. '/Users/z3529065/proyectos/fireveg/fireveg-db-exports/data/output-Rdata/Trait-info.rds'\n",
       "\n",
       "\n"
      ],
      "text/plain": [
       "[1] \"/Users/z3529065/proyectos/fireveg/fireveg-db-exports/data/output-Rdata/field-sites.gpkg\"          \n",
       "[2] \"/Users/z3529065/proyectos/fireveg/fireveg-db-exports/data/output-Rdata/fire-history.rds\"          \n",
       "[3] \"/Users/z3529065/proyectos/fireveg/fireveg-db-exports/data/output-Rdata/Quadrat-sample-data.rds\"   \n",
       "[4] \"/Users/z3529065/proyectos/fireveg/fireveg-db-exports/data/output-Rdata/site-visits.rds\"           \n",
       "[5] \"/Users/z3529065/proyectos/fireveg/fireveg-db-exports/data/output-Rdata/Summary-traits-family.rds\" \n",
       "[6] \"/Users/z3529065/proyectos/fireveg/fireveg-db-exports/data/output-Rdata/Summary-traits-sources.rds\"\n",
       "[7] \"/Users/z3529065/proyectos/fireveg/fireveg-db-exports/data/output-Rdata/Summary-traits-species.rds\"\n",
       "[8] \"/Users/z3529065/proyectos/fireveg/fireveg-db-exports/data/output-Rdata/Trait-info.rds\"            "
      ]
     },
     "metadata": {},
     "output_type": "display_data"
    }
   ],
   "source": [
    "file_to_upload <- dir(here::here(\"data\", \"output-Rdata\"), \n",
    "                      full.names = TRUE, pattern=\"rds|gpkg\")\n",
    "file_to_upload"
   ]
  },
  {
   "cell_type": "markdown",
   "id": "b1735143-446c-453f-a5ec-5845c6899002",
   "metadata": {},
   "source": [
    "### Upload files\n",
    "We will use the `osf_upload` function to upload the list of files."
   ]
  },
  {
   "cell_type": "code",
   "execution_count": 7,
   "id": "7ea98c8d-2848-44a6-b677-7e44d210c273",
   "metadata": {
    "tags": []
   },
   "outputs": [],
   "source": [
    "data_file  <- osf_upload(osf_project, \n",
    "                         path = file_to_upload,\n",
    "                         conflicts = conflict_answer)"
   ]
  },
  {
   "cell_type": "markdown",
   "id": "d451aed1-18cd-4412-b5fd-8b08f2f5a5ca",
   "metadata": {},
   "source": [
    "We can confirm the list of uploaded files:"
   ]
  },
  {
   "cell_type": "code",
   "execution_count": 8,
   "id": "28d95f47-6d59-4211-af1a-16962055aa74",
   "metadata": {},
   "outputs": [
    {
     "data": {
      "text/html": [
       "<table class=\"dataframe\">\n",
       "<caption>A tibble: 8 × 2</caption>\n",
       "<thead>\n",
       "\t<tr><th scope=col>name</th><th scope=col>id</th></tr>\n",
       "\t<tr><th scope=col>&lt;chr&gt;</th><th scope=col>&lt;chr&gt;</th></tr>\n",
       "</thead>\n",
       "<tbody>\n",
       "\t<tr><td>field-sites.gpkg          </td><td>648a583bbee36d028d0e6261</td></tr>\n",
       "\t<tr><td>fire-history.rds          </td><td>6452ba9d13904f00b7fc85d2</td></tr>\n",
       "\t<tr><td>Quadrat-sample-data.rds   </td><td>6452bab38ea16b0093b69427</td></tr>\n",
       "\t<tr><td>site-visits.rds           </td><td>6452bac07177850087b0f73c</td></tr>\n",
       "\t<tr><td>Summary-traits-family.rds </td><td>6452bacfb30b4900b4b9ddc4</td></tr>\n",
       "\t<tr><td>Summary-traits-sources.rds</td><td>64966f6fa2a2f4075a436743</td></tr>\n",
       "\t<tr><td>Summary-traits-species.rds</td><td>6452bae3717785008bb0f4b1</td></tr>\n",
       "\t<tr><td>Trait-info.rds            </td><td>649a64e8a2a2f40aa7436407</td></tr>\n",
       "</tbody>\n",
       "</table>\n"
      ],
      "text/latex": [
       "A tibble: 8 × 2\n",
       "\\begin{tabular}{ll}\n",
       " name & id\\\\\n",
       " <chr> & <chr>\\\\\n",
       "\\hline\n",
       "\t field-sites.gpkg           & 648a583bbee36d028d0e6261\\\\\n",
       "\t fire-history.rds           & 6452ba9d13904f00b7fc85d2\\\\\n",
       "\t Quadrat-sample-data.rds    & 6452bab38ea16b0093b69427\\\\\n",
       "\t site-visits.rds            & 6452bac07177850087b0f73c\\\\\n",
       "\t Summary-traits-family.rds  & 6452bacfb30b4900b4b9ddc4\\\\\n",
       "\t Summary-traits-sources.rds & 64966f6fa2a2f4075a436743\\\\\n",
       "\t Summary-traits-species.rds & 6452bae3717785008bb0f4b1\\\\\n",
       "\t Trait-info.rds             & 649a64e8a2a2f40aa7436407\\\\\n",
       "\\end{tabular}\n"
      ],
      "text/markdown": [
       "\n",
       "A tibble: 8 × 2\n",
       "\n",
       "| name &lt;chr&gt; | id &lt;chr&gt; |\n",
       "|---|---|\n",
       "| field-sites.gpkg           | 648a583bbee36d028d0e6261 |\n",
       "| fire-history.rds           | 6452ba9d13904f00b7fc85d2 |\n",
       "| Quadrat-sample-data.rds    | 6452bab38ea16b0093b69427 |\n",
       "| site-visits.rds            | 6452bac07177850087b0f73c |\n",
       "| Summary-traits-family.rds  | 6452bacfb30b4900b4b9ddc4 |\n",
       "| Summary-traits-sources.rds | 64966f6fa2a2f4075a436743 |\n",
       "| Summary-traits-species.rds | 6452bae3717785008bb0f4b1 |\n",
       "| Trait-info.rds             | 649a64e8a2a2f40aa7436407 |\n",
       "\n"
      ],
      "text/plain": [
       "  name                       id                      \n",
       "1 field-sites.gpkg           648a583bbee36d028d0e6261\n",
       "2 fire-history.rds           6452ba9d13904f00b7fc85d2\n",
       "3 Quadrat-sample-data.rds    6452bab38ea16b0093b69427\n",
       "4 site-visits.rds            6452bac07177850087b0f73c\n",
       "5 Summary-traits-family.rds  6452bacfb30b4900b4b9ddc4\n",
       "6 Summary-traits-sources.rds 64966f6fa2a2f4075a436743\n",
       "7 Summary-traits-species.rds 6452bae3717785008bb0f4b1\n",
       "8 Trait-info.rds             649a64e8a2a2f40aa7436407"
      ]
     },
     "metadata": {},
     "output_type": "display_data"
    }
   ],
   "source": [
    "data_file |> select(name,id)"
   ]
  },
  {
   "cell_type": "markdown",
   "id": "be76e342-d264-4c1a-927e-608db7b0662a",
   "metadata": {},
   "source": [
    "And check the metadata for one file:"
   ]
  },
  {
   "cell_type": "code",
   "execution_count": 11,
   "id": "ba6797a7-440f-41b9-80c2-e33d6b12f00c",
   "metadata": {},
   "outputs": [
    {
     "name": "stdout",
     "output_type": "stream",
     "text": [
      "List of 1\n",
      " $ :List of 3\n",
      "  ..$ attributes   :List of 16\n",
      "  .. ..$ guid                    : NULL\n",
      "  .. ..$ checkout                : NULL\n",
      "  .. ..$ name                    : chr \"field-sites.gpkg\"\n",
      "  .. ..$ kind                    : chr \"file\"\n",
      "  .. ..$ path                    : chr \"/648a583bbee36d028d0e6261\"\n",
      "  .. ..$ size                    : int 143360\n",
      "  .. ..$ provider                : chr \"osfstorage\"\n",
      "  .. ..$ materialized_path       : chr \"/field-sites.gpkg\"\n",
      "  .. ..$ last_touched            : NULL\n",
      "  .. ..$ date_modified           : POSIXct[1:1], format: \"2024-08-14 23:20:01\"\n",
      "  .. ..$ date_created            : POSIXct[1:1], format: \"2023-06-15 00:15:55\"\n",
      "  .. ..$ extra                   :List of 2\n",
      "  .. ..$ tags                    : list()\n",
      "  .. ..$ current_user_can_comment: logi TRUE\n",
      "  .. ..$ current_version         : int 5\n",
      "  .. ..$ show_as_unviewed        : logi TRUE\n",
      "  ..$ links        :List of 8\n",
      "  .. ..$ info    : chr \"https://api.osf.io/v2/files/648a583bbee36d028d0e6261/\"\n",
      "  .. ..$ move    : chr \"https://files.au-1.osf.io/v1/resources/h96q2/providers/osfstorage/648a583bbee36d028d0e6261\"\n",
      "  .. ..$ upload  : chr \"https://files.au-1.osf.io/v1/resources/h96q2/providers/osfstorage/648a583bbee36d028d0e6261\"\n",
      "  .. ..$ delete  : chr \"https://files.au-1.osf.io/v1/resources/h96q2/providers/osfstorage/648a583bbee36d028d0e6261\"\n",
      "  .. ..$ download: chr \"https://osf.io/download/648a583bbee36d028d0e6261/\"\n",
      "  .. ..$ render  : chr \"https://mfr.au-1.osf.io/render?url=https%3A%2F%2Fosf.io%2Fdownload%2F648a583bbee36d028d0e6261%2F%3Fdirect%26mode%3Drender\"\n",
      "  .. ..$ html    : chr \"https://osf.io/h96q2/files/osfstorage/648a583bbee36d028d0e6261\"\n",
      "  .. ..$ self    : chr \"https://api.osf.io/v2/files/648a583bbee36d028d0e6261/\"\n",
      "  ..$ relationships:List of 5\n",
      "  .. ..$ parent_folder         :List of 2\n",
      "  .. ..$ versions              :List of 1\n",
      "  .. ..$ node                  :List of 2\n",
      "  .. ..$ target                :List of 2\n",
      "  .. ..$ cedar_metadata_records:List of 1\n"
     ]
    }
   ],
   "source": [
    "data_file |> slice(1) |> pull(meta) |> str(3)"
   ]
  },
  {
   "cell_type": "markdown",
   "id": "1cc02912-d23c-4b28-a6c0-787bdbfd8aa7",
   "metadata": {},
   "source": [
    "## Where is the data?\n",
    "<div class=\"alert alert-info\">\n",
    "We uploaded these files to the following OSF repository:\n",
    "\n",
    "> Ferrer-Paris, J. R., Keith, D., & Sánchez-Mercado, A. (2024, August 15). Export data records from Fire Ecology Traits for Plants database. Retrieved from osf.io/h96q2\n",
    "</div>"
   ]
  },
  {
   "cell_type": "markdown",
   "id": "f86ee755-5a37-40bb-b5a8-fdf5ffadb60f",
   "metadata": {},
   "source": [
    "## That is it for now!\n",
    "\n",
    "✅ Job done! 😎👌🔥\n",
    "\n",
    "You can:\n",
    "- go [back home](../README.md),\n",
    "- continue navigating the repo on [GitHub](https://github.com/ces-unsw-edu-au/fireveg-db-exports)\n",
    "- continue exploring the repo on [OSF](https://osf.io/h96q2/).\n",
    "- visit the database at <http://fireecologyplants.net>"
   ]
  },
  {
   "cell_type": "code",
   "execution_count": null,
   "id": "65f09491-9cfa-487c-b55c-4f3e2fc62a2e",
   "metadata": {},
   "outputs": [],
   "source": []
  }
 ],
 "metadata": {
  "kernelspec": {
   "display_name": "R",
   "language": "R",
   "name": "ir"
  },
  "language_info": {
   "codemirror_mode": "r",
   "file_extension": ".r",
   "mimetype": "text/x-r-source",
   "name": "R",
   "pygments_lexer": "r",
   "version": "4.3.1"
  }
 },
 "nbformat": 4,
 "nbformat_minor": 5
}
