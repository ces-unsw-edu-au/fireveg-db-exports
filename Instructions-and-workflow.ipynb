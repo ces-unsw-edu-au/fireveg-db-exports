{
 "cells": [
  {
   "cell_type": "markdown",
   "id": "c9fb5d5b-0442-473e-ae15-ebc4e987e4ec",
   "metadata": {},
   "source": [
    "# Fireveg DB exports -- Instructions and workflow for this repository\n",
    "\n",
    "Author: [José R. Ferrer-Paris](https://github.com/jrfep)\n",
    "\n",
    "Date: 22 August 2024\n",
    "\n",
    "This repository includes [Python](https://www.python.org) and [R](https://www.r-project.org/) code to export data from the the Fireveg database. This Jupyter Notebook contains instructions on how we set up our instance of Jupyter Lab and on how to navigate this repository.\n",
    "\n",
    "**Please note:**\n",
    "<div class=\"alert alert-warning\">\n",
    "    This repository contains code that is intended for internal project management and is documented for the sake of reproducibility.<br/>\n",
    "    🛂 Only users contributing directly to the project have access to the credentials for data download/upload. \n",
    "</div>"
   ]
  },
  {
   "cell_type": "markdown",
   "id": "9b2be093-5ffb-46e5-82bb-0648f8426efb",
   "metadata": {},
   "source": [
    "## Repository structure\n",
    "\n",
    "All the script are saved as Jupyter Notebooks and include documentation and comments on each step. Items with a green checkmark (✅) have been updated for version 1.1 (August 2024). Some items in this list are still work in progress (⌛), and others are just old or outdated, and will be deleted soon (🦕). \n"
   ]
  },
  {
   "cell_type": "markdown",
   "id": "3d683177-c64e-4320-82a5-53758270679b",
   "metadata": {},
   "source": [
    "### Shared scripts in `lib` folder"
   ]
  },
  {
   "cell_type": "markdown",
   "id": "f40aa55f-b174-4a7a-8da8-16b0ae27b218",
   "metadata": {},
   "source": [
    "Folder [lib/](/lib/) include several functions written as [python](https://www.python.org/) modules. ✅\n",
    "\n",
    "Having these functions in the `lib` folder allow us to share functions between notebooks with more consistency, and also streamline the documentation of steps in the notebooks."
   ]
  },
  {
   "cell_type": "markdown",
   "id": "8f32ab6d-23d0-4570-8f46-1b037838c5c4",
   "metadata": {},
   "source": [
    "### Fireveg version information"
   ]
  },
  {
   "cell_type": "markdown",
   "id": "6d00b9ce-06ed-4f94-a9dd-58272d45a0ab",
   "metadata": {},
   "source": [
    "In August 2024 we updated from version 1.0 to version 1.1 of the database. I keep a `fireveg-version.env` in the root directory of the repository with the basic details of the current version. This file can be read as a programming environment variable in R or Python code."
   ]
  },
  {
   "cell_type": "markdown",
   "id": "7c322160-bf35-45b1-98b6-240ad17da35c",
   "metadata": {},
   "source": [
    "### Credentials"
   ]
  },
  {
   "cell_type": "markdown",
   "id": "b10e3bc2-9e27-4220-8d04-95a8dd805410",
   "metadata": {},
   "source": [
    "🤫 We use a folder named `secrets` to keep the credentials for connection to different services (database credentials, API keys, etc). We checked this folder in our `.gitignore` so that its content are not tracked by git and not exposed. Future users need to copy the contents of this folder manually.\n",
    "\n",
    "For R I use a `Renviron.local` file with a <key>=<value> format like this:\n",
    "\n",
    "```sh\n",
    "OSF_PAT=\n",
    "DBHOST=\n",
    "DBPORT=\n",
    "DBNAME=\n",
    "DBUSER=\n",
    "```\n",
    "\n",
    "For Python I use a `database.ini` file with following format:\n",
    "\n",
    "```sh\n",
    "[section]\n",
    "host=\n",
    "port=\n",
    "database=\n",
    "user=\n",
    "```"
   ]
  },
  {
   "cell_type": "markdown",
   "id": "aec7801f-6720-4647-8477-c5c2e8ef0330",
   "metadata": {},
   "source": [
    "### Data folder"
   ]
  },
  {
   "cell_type": "markdown",
   "id": "f001e045-161a-4402-a543-71ee3651e0ae",
   "metadata": {},
   "source": [
    "🐘 The data folder is checked in our `.gitignore` so that its contents are not tracked by git. We use this folder locally, and then upload the files to a cloud drive for project-wide sharing. \n"
   ]
  },
  {
   "cell_type": "markdown",
   "id": "a87daf73-0340-4964-8f73-85515c1bb19d",
   "metadata": {},
   "source": [
    "### RDS output"
   ]
  },
  {
   "cell_type": "markdown",
   "id": "d8a80bfe-05b1-43ca-b1e3-9ebc98db87dc",
   "metadata": {},
   "source": [
    "Scripts in folder `RDS-output`:\n",
    "- [Read tables from the database](RDS-output/Read-tables-from-database.ipynb) ⌛\n",
    "- [Upload files to OSF](RDS-output/Upload-files-to-OSF.ipynb) ⌛"
   ]
  },
  {
   "cell_type": "markdown",
   "id": "eb63c254-4eaf-4bd5-be85-c8a4b9a16cbd",
   "metadata": {},
   "source": [
    "### SQL dump output"
   ]
  },
  {
   "cell_type": "markdown",
   "id": "7022a742-571f-409b-b8d1-c4288adae868",
   "metadata": {},
   "source": [
    "Scripts in folder `SQL-output`:\n",
    "- [Create SQL dump file](SQL-output/Create-SQL-dumpfile.ipynb) ⌛"
   ]
  },
  {
   "cell_type": "markdown",
   "id": "2599c551-4175-4ac4-ad8d-0d48b582cccf",
   "metadata": {},
   "source": [
    "### Report output"
   ]
  },
  {
   "cell_type": "markdown",
   "id": "3fb64728-7a35-4823-99fa-b03bec07ee0e",
   "metadata": {},
   "source": [
    "Scripts in folder `Report-output`:\n",
    "- [Check reference list](Report-output/Check-reference-list.ipynb) ⌛\n",
    "- [Create XLSX ...](Report-output/Create-xlsx-output-curation-litrev-records.ipynb) ⌛\n",
    "- [Create XLSX ...](Report-output/Create-xlsx-output-field-data.ipynb) ⌛\n",
    "- [Create XLSX ...](Report-output/Create-xlsx-output-litrev-records.ipynb) ⌛\n",
    "- [Create XLSX ...](Report-output/Create-xlsx-output-summary-litrev.ipynb) ⌛\n",
    "- [Upload files to S3 bucket](Report-output/upload-files-to-S3-bucket.ipynb) ⌛"
   ]
  },
  {
   "cell_type": "markdown",
   "id": "a9eda153-15a0-47a4-ac0a-58e17d2d4053",
   "metadata": {},
   "source": [
    "## How to use Jupyter Lab\n",
    "\n",
    "I use Jupyter Lab to organise and document all the code in notebooks.  \n",
    "\n",
    "These are the steps I followed to configure a Jupyter Lab environment. This is a simple collection of note, not an exhaustive how to.\n"
   ]
  },
  {
   "cell_type": "markdown",
   "id": "a687a655-5ff2-401a-9f93-2df399080992",
   "metadata": {},
   "source": [
    "### Create and activate python environment\n",
    "\n",
    "#### with venv\n",
    "\n",
    "This is my preferred method after some frustrations with conda.\n"
   ]
  },
  {
   "cell_type": "raw",
   "id": "f073f09c-cb6c-42a8-8f2c-5beca521f955",
   "metadata": {},
   "source": [
    "# Run this in a shell or terminal (bash or zsh):\n",
    "conda deactivate\n",
    "mkdir -p $HOME/venv\n",
    "/usr/local/bin/python3 -m venv $HOME/venv/jptr\n",
    "source $HOME/venv/jptr/bin/activate"
   ]
  },
  {
   "cell_type": "markdown",
   "id": "c1586f0d-4eea-4eb2-ba03-65f328cc2de3",
   "metadata": {},
   "source": [
    "Check python version with `python --version`\n",
    "\n",
    "Update and install modules with:"
   ]
  },
  {
   "cell_type": "raw",
   "id": "70261ca9-88fa-4a07-9ae3-0c495110a6e9",
   "metadata": {},
   "source": [
    "pip install --upgrade pip\n",
    "pip3 install jupyterlab"
   ]
  },
  {
   "cell_type": "markdown",
   "id": "2919e823-d820-4043-9b07-d2f06a8cb9a3",
   "metadata": {},
   "source": [
    "We recently update Jupyter lab:"
   ]
  },
  {
   "cell_type": "raw",
   "id": "1ef32d19-b0df-413c-808f-c84cb45311d9",
   "metadata": {},
   "source": [
    "pip install --upgrade jupyterlab"
   ]
  },
  {
   "cell_type": "markdown",
   "id": "93a997b5-30fa-4e61-8d92-b02e63fc4ef3",
   "metadata": {},
   "source": [
    "#### Alternative with Conda\n",
    "\n",
    "Of course, you can still use Conda **instead** of venv.\n",
    "\n",
    "I followed these steps to a) create a new environment with conda, and b) install the appropriate Python modules and R packages."
   ]
  },
  {
   "cell_type": "raw",
   "id": "a9b3483d-342d-4929-80de-a7991be9d4ee",
   "metadata": {},
   "source": [
    "# Run this in a shell or terminal (bash or zsh):\n",
    "conda create --name jptr\n",
    "conda activate jptr\n",
    "conda install -c conda-forge r-rpostgresql r-readxl devtools\n",
    "conda install -c conda-forge jupyterlab"
   ]
  },
  {
   "cell_type": "markdown",
   "id": "9b90c3e2-acfd-4666-8d97-ac69ac967aac",
   "metadata": {},
   "source": [
    "### Installing python libraries\n",
    "Using the `venv` environment, it is easier to install packages with `pip`:"
   ]
  },
  {
   "cell_type": "raw",
   "id": "b1cac398-616c-45dd-9c10-9c64ac419912",
   "metadata": {},
   "source": [
    "pip install openpyxl pandas\n",
    "pip install pyprojroot\n",
    "# connection to aws s3\n",
    "pip install boto3\n",
    "# for iNat observations\n",
    "pip install pyinaturalist\n",
    "pip install pillow\n",
    "pip install ipyplot"
   ]
  },
  {
   "cell_type": "markdown",
   "id": "5c376fcb-eabe-4698-9c9a-354170f8beab",
   "metadata": {},
   "source": [
    "### Connecting to postgresql\n",
    "\n",
    "To connect to postgresql database we need to have a client in the local computer. \n",
    "\n",
    "For postgresql connection on mac, use: https://postgresapp.com, download and then "
   ]
  },
  {
   "cell_type": "raw",
   "id": "d12bdd45-3354-42d3-a008-5cae572dcacb",
   "metadata": {},
   "source": [
    "sudo mkdir -p /etc/paths.d &&\n",
    "echo /Applications/Postgres.app/Contents/Versions/latest/bin | sudo tee /etc/paths.d/postgresapp"
   ]
  },
  {
   "cell_type": "markdown",
   "id": "b51128d8-2ec0-442b-ba44-693797457285",
   "metadata": {},
   "source": [
    "Restart the terminal, then:"
   ]
  },
  {
   "cell_type": "raw",
   "id": "8527a20c-2987-4546-9eb1-71c1047fab7e",
   "metadata": {},
   "source": [
    "source $HOME/venv/jptr/bin/activate\n",
    "pip install psycopg2"
   ]
  },
  {
   "cell_type": "markdown",
   "id": "042b31da-137e-4881-aa5f-66bf99783785",
   "metadata": {},
   "source": [
    "**Updating postgresql?**\n",
    "\n",
    "According to [wise people](https://stackoverflow.com/questions/45025382/how-to-update-pg-dump-to-server-version-in-mac-os):"
   ]
  },
  {
   "cell_type": "code",
   "execution_count": null,
   "id": "b0304458-61dc-4059-84d5-2cf37650405d",
   "metadata": {},
   "outputs": [],
   "source": [
    "brew install postgresql@16 # install server version or higher\n",
    "brew services stop postgresql@15 # stop postgres\n",
    "brew uninstall postgresql@15 # uninstall old version\n",
    "brew services start postgresql@16 # start newly installed version"
   ]
  },
  {
   "cell_type": "markdown",
   "id": "7f0036d1-4001-4989-af78-e5ed4f073780",
   "metadata": {},
   "source": [
    "### Adding the R kernel\n",
    "Activate the right R kernel for Jupyter lab with:"
   ]
  },
  {
   "cell_type": "raw",
   "id": "e0f6f0aa-22c3-4583-9b19-29ec216406a4",
   "metadata": {},
   "source": [
    "# Run this in an R session\n",
    "install.packages('IRkernel')\n",
    "IRkernel::installspec()"
   ]
  },
  {
   "cell_type": "markdown",
   "id": "da8cdf0f-80ee-4aa5-8faf-022940b08fed",
   "metadata": {},
   "source": [
    "### Loading own functions\n",
    "If we want to have shared functions in different workbooks, one options is to start the jupyter lab interface with pythonpath. Something like this:"
   ]
  },
  {
   "cell_type": "raw",
   "id": "52a740d3-5c8e-4ed9-bebd-5d570948da16",
   "metadata": {},
   "source": [
    "cd $REPODIR\n",
    "# Then activate the environment with \n",
    "source $HOME/venv/jptr/bin/activate\n",
    "# or with Conda: \n",
    "# conda activate jptr\n",
    "# and set the path:\n",
    "env PYTHONPATH=$REPODIR jupyter-lab"
   ]
  },
  {
   "cell_type": "markdown",
   "id": "76c862f2-92cc-4385-bdbb-df98d21d1e2a",
   "metadata": {},
   "source": [
    "Alternatively, we can update the path in one of the cells of the notebook, something like this:"
   ]
  },
  {
   "cell_type": "code",
   "execution_count": 1,
   "id": "c970314e-eaee-4f3a-81b6-b8d3c851443a",
   "metadata": {},
   "outputs": [],
   "source": [
    "import pyprojroot\n",
    "import sys\n",
    "repodir = pyprojroot.find_root(pyprojroot.has_dir(\".git\"))\n",
    "sys.path.append(str(repodir))"
   ]
  },
  {
   "cell_type": "markdown",
   "id": "e59630d4-58e7-472f-9078-d56e86446533",
   "metadata": {},
   "source": [
    "### Version control with Jupyter\n",
    "\n",
    "There are some problems associated with version control of jupyter notebooks when copies of the notebook are edited in different sessions concurrently.\n",
    "\n",
    "Look at some recommendations here:\n",
    "<https://nextjournal.com/schmudde/how-to-version-control-jupyter>\n"
   ]
  },
  {
   "cell_type": "markdown",
   "id": "948336b7-9c9c-4c0a-8119-f8510ad9ec0d",
   "metadata": {},
   "source": [
    "## This is the end...\n",
    "\n",
    "... Of this short document.\n",
    "\n",
    "You are welcome to continue exploring the [links above](#Repository-structure), or:\n",
    "- continue navigating the repo on [GitHub](https://github.com/ces-unsw-edu-au/fireveg-db-exports)\n",
    "- continue exploring the repo on [OSF](https://osf.io/h96q2/).\n",
    "- visit the database at <http://fireecologyplants.net>"
   ]
  },
  {
   "cell_type": "code",
   "execution_count": null,
   "id": "1ce9dc9c-26f7-403a-8ed4-fac58a8439a8",
   "metadata": {},
   "outputs": [],
   "source": []
  }
 ],
 "metadata": {
  "kernelspec": {
   "display_name": "Python 3 (ipykernel)",
   "language": "python",
   "name": "python3"
  },
  "language_info": {
   "codemirror_mode": {
    "name": "ipython",
    "version": 3
   },
   "file_extension": ".py",
   "mimetype": "text/x-python",
   "name": "python",
   "nbconvert_exporter": "python",
   "pygments_lexer": "ipython3",
   "version": "3.11.3"
  }
 },
 "nbformat": 4,
 "nbformat_minor": 5
}
