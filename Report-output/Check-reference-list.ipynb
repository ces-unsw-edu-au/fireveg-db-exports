{
 "cells": [
  {
   "cell_type": "markdown",
   "id": "da4e7cf4-78fd-45b7-9433-3ba242a24551",
   "metadata": {},
   "source": [
    "# Export list of references\n",
    "\n",
    "Author: [José R. Ferrer-Paris](https://github.com/jrfep)\n",
    "\n",
    "Date: July 2024\n",
    "\n",
    "This Jupyter Notebook includes Python code to download data from the Fireveg Database to a local folder. The output is a workbook in XLSX format with the list of references used in the `litrev` schema of the database.\n",
    "\n",
    "**Please note:**\n",
    "<div class=\"alert alert-warning\">\n",
    "    This code is intended for internal project management and  is documented for the sake of reproducibility.<br/>\n",
    "    🛂 Only users contributing directly to the project have access to the credentials for data download/upload. \n",
    "</div>"
   ]
  },
  {
   "cell_type": "markdown",
   "id": "7ea581d6-3ad1-4776-be2b-2c84769be09a",
   "metadata": {},
   "source": [
    "## Set-up\n",
    "\n",
    "### Load modules\n",
    "We are using Python for this. Start your session and load the packages.\n"
   ]
  },
  {
   "cell_type": "code",
   "execution_count": 1,
   "id": "a2d1591a-3027-45db-b1a8-92b83b36e741",
   "metadata": {},
   "outputs": [],
   "source": [
    "# work with paths in operating system\n",
    "from pathlib import Path\n",
    "import os\n",
    "import sys\n",
    "\n",
    "# datetime support\n",
    "import datetime\n",
    "# For database connection\n",
    "from configparser import ConfigParser\n",
    "import psycopg2\n",
    "from psycopg2.extras import DictCursor\n",
    "\n",
    "# Pandas for calculations\n",
    "import pandas as pd\n",
    "# Regular expressions\n",
    "import re\n",
    "# Pyprojroot for easier handling of working directory\n",
    "import pyprojroot"
   ]
  },
  {
   "cell_type": "markdown",
   "id": "e68bd206-3b1c-41fa-81b2-708abadf3ce1",
   "metadata": {},
   "source": [
    "### Define paths for input and output"
   ]
  },
  {
   "cell_type": "markdown",
   "id": "42c58e43-65e8-4fa8-9b40-5fa9eae49b1f",
   "metadata": {},
   "source": [
    "Define project directory using the `pyprojroot` functions, and add this to the execution path."
   ]
  },
  {
   "cell_type": "code",
   "execution_count": 2,
   "id": "978d0bd5-6df0-4a83-9c09-3eb8f1b70e8c",
   "metadata": {},
   "outputs": [],
   "source": [
    "repodir = pyprojroot.find_root(pyprojroot.has_dir(\".git\"))\n",
    "sys.path.append(str(repodir))"
   ]
  },
  {
   "cell_type": "markdown",
   "id": "bfec12db-e096-4e46-8b9c-5777fe91e590",
   "metadata": {},
   "source": [
    "Declare and create an output data folder"
   ]
  },
  {
   "cell_type": "code",
   "execution_count": 3,
   "id": "2ada9b72-26b1-4561-b701-cd11b4075e64",
   "metadata": {},
   "outputs": [
    {
     "data": {
      "text/plain": [
       "['fireveg-trait-records-model.xlsx',\n",
       " 'fireveg-trait-records-curation.xlsx',\n",
       " 'fireveg-trait-report-model.xlsx',\n",
       " 'fireveg-db-references.xlsx',\n",
       " 'fireveg-field-report-model.xlsx',\n",
       " 'fireveg-field-records.csv',\n",
       " 'fireveg-trait-records.csv']"
      ]
     },
     "execution_count": 3,
     "metadata": {},
     "output_type": "execute_result"
    }
   ],
   "source": [
    "outputdir = repodir / \"data\" / \"output-report\"\n",
    "if (not os.path.exists(outputdir)):\n",
    "    os.mkdir(outputdir)\n",
    "os.listdir(outputdir)"
   ]
  },
  {
   "cell_type": "markdown",
   "id": "e45d9cc6-04e5-468d-a2da-b0307e842f20",
   "metadata": {},
   "source": [
    "### Import own functions\n",
    "Load functions from `lib` folder, we will use a function to read db credentials, one for executing database queries and three functions for extracting data from the reference description string"
   ]
  },
  {
   "cell_type": "code",
   "execution_count": 4,
   "id": "96b0cc89-0987-4558-9c24-7eaf0d22537f",
   "metadata": {},
   "outputs": [],
   "source": [
    "from lib.parseparams import read_dbparams\n",
    "from lib.firevegdb import dbquery\n",
    "from lib.firevegrefs import extract_year,extract_authors,extract_rest"
   ]
  },
  {
   "cell_type": "markdown",
   "id": "2e76da6c-0aff-4f03-b85d-86780d1772fe",
   "metadata": {},
   "source": [
    "### Database credentials\n",
    "\n",
    "🤫 We use a folder named \"secrets\" to keep the credentials for connection to different services (database credentials, API keys, etc). This checked this folder in our `.gitignore` so that its content are not tracked by git and not exposed. Future users need to copy the contents of this folder manually.\n",
    "\n",
    "We read database credentials stored in a `database.ini` file using our own `read_dbparams` function."
   ]
  },
  {
   "cell_type": "code",
   "execution_count": 5,
   "id": "2cfd611f-9c14-42a6-aa89-331ae6200b1a",
   "metadata": {},
   "outputs": [],
   "source": [
    "dbparams = read_dbparams(repodir / 'secrets' / 'database.ini', section='fireveg-db-v1.1')"
   ]
  },
  {
   "cell_type": "markdown",
   "id": "41d239f2-995c-4ec6-86a4-b5042508f3d2",
   "metadata": {},
   "source": [
    "## Database query\n",
    "\n",
    "Database connection and query using functions defined in the project library."
   ]
  },
  {
   "cell_type": "code",
   "execution_count": 6,
   "id": "81b04025-4a86-4dc5-91d5-12010b163bf0",
   "metadata": {},
   "outputs": [],
   "source": [
    "ref_info = dbquery(\"SELECT * FROM litrev.ref_list \", dbparams)"
   ]
  },
  {
   "cell_type": "markdown",
   "id": "deac955f-f519-451d-b9e3-46da4613f511",
   "metadata": {},
   "source": [
    "## Create data frame and add columns\n",
    "We transform the query result to a data frame and add three columns with data extracted from the ref_cite string."
   ]
  },
  {
   "cell_type": "code",
   "execution_count": 7,
   "id": "08090e71-a590-4ecf-890f-b310f4e15793",
   "metadata": {},
   "outputs": [],
   "source": [
    "df=pd.DataFrame(ref_info,columns=ref_info[1].keys())"
   ]
  },
  {
   "cell_type": "code",
   "execution_count": 8,
   "id": "fe4a3fe2-218f-456f-9997-6f9ecfd5fb00",
   "metadata": {},
   "outputs": [],
   "source": [
    "df['date']=df.apply(lambda row : extract_year(row['ref_cite']), axis = 1)\n",
    "df['authors']=df.apply(lambda row : extract_authors(row['ref_cite']), axis = 1)\n",
    "df['ref_info']=df.apply(lambda row : extract_rest(row['ref_cite']), axis = 1)"
   ]
  },
  {
   "cell_type": "code",
   "execution_count": 9,
   "id": "f9e32989-0e19-4519-a915-46a271e3121c",
   "metadata": {},
   "outputs": [
    {
     "data": {
      "text/html": [
       "<div>\n",
       "<style scoped>\n",
       "    .dataframe tbody tr th:only-of-type {\n",
       "        vertical-align: middle;\n",
       "    }\n",
       "\n",
       "    .dataframe tbody tr th {\n",
       "        vertical-align: top;\n",
       "    }\n",
       "\n",
       "    .dataframe thead th {\n",
       "        text-align: right;\n",
       "    }\n",
       "</style>\n",
       "<table border=\"1\" class=\"dataframe\">\n",
       "  <thead>\n",
       "    <tr style=\"text-align: right;\">\n",
       "      <th></th>\n",
       "      <th>ref_code</th>\n",
       "      <th>ref_cite</th>\n",
       "      <th>alt_code</th>\n",
       "      <th>date</th>\n",
       "      <th>authors</th>\n",
       "      <th>ref_info</th>\n",
       "    </tr>\n",
       "  </thead>\n",
       "  <tbody>\n",
       "    <tr>\n",
       "      <th>0</th>\n",
       "      <td>austraits-6.0.0</td>\n",
       "      <td>Falster, D., Gallagher, R., Wenk, E., &amp; Sauque...</td>\n",
       "      <td>austraits-6.0.0</td>\n",
       "      <td>2024</td>\n",
       "      <td>Falster, D., Gallagher, R., Wenk, E., &amp; Sauque...</td>\n",
       "      <td>. AusTraits: a curated plant trait database fo...</td>\n",
       "    </tr>\n",
       "    <tr>\n",
       "      <th>1</th>\n",
       "      <td>Auld Keith Bradstock 2000</td>\n",
       "      <td>Auld, Tony D.; Keith, David A.; Bradstock, Ros...</td>\n",
       "      <td>Auld_2000</td>\n",
       "      <td>2000</td>\n",
       "      <td>Auld, Tony D.; Keith, David A.; Bradstock, Ros...</td>\n",
       "      <td>{Patterns in longevity of soil seedbanks in f...</td>\n",
       "    </tr>\n",
       "    <tr>\n",
       "      <th>2</th>\n",
       "      <td>Baker 2019</td>\n",
       "      <td>Baker, Andrew (2019) {Unpublished data: Post-f...</td>\n",
       "      <td>Baker_2019</td>\n",
       "      <td>2019</td>\n",
       "      <td>Baker, Andrew</td>\n",
       "      <td>{Unpublished data: Post-fire fire-response su...</td>\n",
       "    </tr>\n",
       "    <tr>\n",
       "      <th>3</th>\n",
       "      <td>Burrows Wardell-Johnson Ward 2008</td>\n",
       "      <td>Burrows, Neil D; Wardell-Johnson, Grant; Ward,...</td>\n",
       "      <td>Burrows_2008</td>\n",
       "      <td>2008</td>\n",
       "      <td>Burrows, Neil D; Wardell-Johnson, Grant; Ward,...</td>\n",
       "      <td>{Post-fire juvenile period of plants in south...</td>\n",
       "    </tr>\n",
       "    <tr>\n",
       "      <th>4</th>\n",
       "      <td>Burrows 2020</td>\n",
       "      <td>Burrows, Neil (2020) {Data from 'Plant Ecologi...</td>\n",
       "      <td>Burrows_2020</td>\n",
       "      <td>2020</td>\n",
       "      <td>Burrows, Neil</td>\n",
       "      <td>{Data from 'Plant Ecological Attributes' them...</td>\n",
       "    </tr>\n",
       "    <tr>\n",
       "      <th>...</th>\n",
       "      <td>...</td>\n",
       "      <td>...</td>\n",
       "      <td>...</td>\n",
       "      <td>...</td>\n",
       "      <td>...</td>\n",
       "      <td>...</td>\n",
       "    </tr>\n",
       "    <tr>\n",
       "      <th>342</th>\n",
       "      <td>RP RFA Victoria - East Gippsland</td>\n",
       "      <td>RP RFA Victoria - East Gippsland. Environment ...</td>\n",
       "      <td>NSWFFRD-RP-ref-R41</td>\n",
       "      <td>1999</td>\n",
       "      <td>RP RFA Victoria - East Gippsland. Environment ...</td>\n",
       "      <td>RP RFA Victoria - East Gippsland. Environment ...</td>\n",
       "    </tr>\n",
       "    <tr>\n",
       "      <th>343</th>\n",
       "      <td>RP RFA Tasmania</td>\n",
       "      <td>RP RFA Tasmania. Tasmanian-Commonwealth RFA Ba...</td>\n",
       "      <td>NSWFFRD-RP-ref-R42</td>\n",
       "      <td></td>\n",
       "      <td>RP RFA Tasmania. Tasmanian-Commonwealth RFA Ba...</td>\n",
       "      <td>. Tasmanian Public Land Use Commission, Nov 1996.</td>\n",
       "    </tr>\n",
       "    <tr>\n",
       "      <th>344</th>\n",
       "      <td>RP Threatened Eucalypts</td>\n",
       "      <td>RP Threatened Eucalypts. Draft Recovery Plan, ...</td>\n",
       "      <td>NSWFFRD-RP-ref-R43</td>\n",
       "      <td>200</td>\n",
       "      <td>RP Threatened Eucalypts. Draft Recovery Plan, ...</td>\n",
       "      <td>RP Threatened Eucalypts. Draft Recovery Plan, ...</td>\n",
       "    </tr>\n",
       "    <tr>\n",
       "      <th>345</th>\n",
       "      <td>RP Boronia granitica</td>\n",
       "      <td>RP Boronia granitica. RP Draft for public comm...</td>\n",
       "      <td>NSWFFRD-RP-ref-R44</td>\n",
       "      <td>200</td>\n",
       "      <td>RP Boronia granitica. RP Draft for public comm...</td>\n",
       "      <td>RP Boronia granitica. RP Draft for public comm...</td>\n",
       "    </tr>\n",
       "    <tr>\n",
       "      <th>346</th>\n",
       "      <td>RP Microtis angusii</td>\n",
       "      <td>RP Microtis angusii. Draft RP, August 1999</td>\n",
       "      <td>NSWFFRD-RP-ref-R45</td>\n",
       "      <td>199</td>\n",
       "      <td>RP Microtis angusii. Draft RP, August 199</td>\n",
       "      <td>RP Microtis angusii. Draft RP, August 1999</td>\n",
       "    </tr>\n",
       "  </tbody>\n",
       "</table>\n",
       "<p>347 rows × 6 columns</p>\n",
       "</div>"
      ],
      "text/plain": [
       "                              ref_code   \n",
       "0                      austraits-6.0.0  \\\n",
       "1            Auld Keith Bradstock 2000   \n",
       "2                           Baker 2019   \n",
       "3    Burrows Wardell-Johnson Ward 2008   \n",
       "4                         Burrows 2020   \n",
       "..                                 ...   \n",
       "342   RP RFA Victoria - East Gippsland   \n",
       "343                    RP RFA Tasmania   \n",
       "344            RP Threatened Eucalypts   \n",
       "345               RP Boronia granitica   \n",
       "346                RP Microtis angusii   \n",
       "\n",
       "                                              ref_cite            alt_code   \n",
       "0    Falster, D., Gallagher, R., Wenk, E., & Sauque...     austraits-6.0.0  \\\n",
       "1    Auld, Tony D.; Keith, David A.; Bradstock, Ros...           Auld_2000   \n",
       "2    Baker, Andrew (2019) {Unpublished data: Post-f...          Baker_2019   \n",
       "3    Burrows, Neil D; Wardell-Johnson, Grant; Ward,...        Burrows_2008   \n",
       "4    Burrows, Neil (2020) {Data from 'Plant Ecologi...        Burrows_2020   \n",
       "..                                                 ...                 ...   \n",
       "342  RP RFA Victoria - East Gippsland. Environment ...  NSWFFRD-RP-ref-R41   \n",
       "343  RP RFA Tasmania. Tasmanian-Commonwealth RFA Ba...  NSWFFRD-RP-ref-R42   \n",
       "344  RP Threatened Eucalypts. Draft Recovery Plan, ...  NSWFFRD-RP-ref-R43   \n",
       "345  RP Boronia granitica. RP Draft for public comm...  NSWFFRD-RP-ref-R44   \n",
       "346         RP Microtis angusii. Draft RP, August 1999  NSWFFRD-RP-ref-R45   \n",
       "\n",
       "     date                                            authors   \n",
       "0    2024  Falster, D., Gallagher, R., Wenk, E., & Sauque...  \\\n",
       "1    2000  Auld, Tony D.; Keith, David A.; Bradstock, Ros...   \n",
       "2    2019                                     Baker, Andrew    \n",
       "3    2008  Burrows, Neil D; Wardell-Johnson, Grant; Ward,...   \n",
       "4    2020                                     Burrows, Neil    \n",
       "..    ...                                                ...   \n",
       "342  1999  RP RFA Victoria - East Gippsland. Environment ...   \n",
       "343        RP RFA Tasmania. Tasmanian-Commonwealth RFA Ba...   \n",
       "344   200  RP Threatened Eucalypts. Draft Recovery Plan, ...   \n",
       "345   200  RP Boronia granitica. RP Draft for public comm...   \n",
       "346   199          RP Microtis angusii. Draft RP, August 199   \n",
       "\n",
       "                                              ref_info  \n",
       "0    . AusTraits: a curated plant trait database fo...  \n",
       "1     {Patterns in longevity of soil seedbanks in f...  \n",
       "2     {Unpublished data: Post-fire fire-response su...  \n",
       "3     {Post-fire juvenile period of plants in south...  \n",
       "4     {Data from 'Plant Ecological Attributes' them...  \n",
       "..                                                 ...  \n",
       "342  RP RFA Victoria - East Gippsland. Environment ...  \n",
       "343  . Tasmanian Public Land Use Commission, Nov 1996.  \n",
       "344  RP Threatened Eucalypts. Draft Recovery Plan, ...  \n",
       "345  RP Boronia granitica. RP Draft for public comm...  \n",
       "346         RP Microtis angusii. Draft RP, August 1999  \n",
       "\n",
       "[347 rows x 6 columns]"
      ]
     },
     "execution_count": 9,
     "metadata": {},
     "output_type": "execute_result"
    }
   ],
   "source": [
    "df"
   ]
  },
  {
   "cell_type": "markdown",
   "id": "b43c0d88-a648-4300-9528-3acf761037b9",
   "metadata": {},
   "source": [
    "## Export to excel workbook\n",
    "Here we use a simple excel export function to save the results:"
   ]
  },
  {
   "cell_type": "code",
   "execution_count": 10,
   "id": "6350ffbe-823c-43ee-a116-f1a5ed652efc",
   "metadata": {},
   "outputs": [],
   "source": [
    "df.to_excel(outputdir / \"fireveg-db-references.xlsx\") "
   ]
  },
  {
   "cell_type": "markdown",
   "id": "4dc7fbf3-d248-40e2-9678-f6040dfb5818",
   "metadata": {},
   "source": [
    "## Where is the output?\n",
    "<div class=\"alert alert-info\">\n",
    "We uploaded this and other workbooks to report on the database content in a open access repository at:\n",
    "\n",
    "> Ferrer-Paris, José R.; Keith, D A (2024). Fire Ecology Traits for Plants: Database exports. figshare. Dataset. https://doi.org/10.6084/m9.figshare.24125088\n",
    "</div>"
   ]
  },
  {
   "cell_type": "markdown",
   "id": "add25ea8-ede2-4861-8a48-45124049eafd",
   "metadata": {},
   "source": [
    "## That is it for now!\n",
    "\n",
    "✅ Job done! 😎👌🔥\n",
    "\n",
    "You can go to the next steps: \n",
    "- [Create XLSX output of litrev records](./Create-xlsx-output-litrev-records.ipynb).\n",
    "- [Create XLSX output of litrev records for curation](./Create-xlsx-output-curation-litrev-records.ipynb).\n",
    "- [Create XLSX output of a summary of litrev records](./Create-xlsx-output-summary-litrev.ipynb).\n",
    "\n",
    "Or you can:\n",
    "- go [back home](../README.md),\n",
    "- continue navigating the repo on [GitHub](https://github.com/ces-unsw-edu-au/fireveg-db-exports)\n",
    "- continue exploring the repo on [OSF](https://osf.io/h96q2/).\n",
    "- visit the database at <http://fireecologyplants.net>"
   ]
  },
  {
   "cell_type": "code",
   "execution_count": null,
   "id": "b3607491-17a9-4527-8f1e-08af9266a2fe",
   "metadata": {},
   "outputs": [],
   "source": []
  }
 ],
 "metadata": {
  "kernelspec": {
   "display_name": "Python 3 (ipykernel)",
   "language": "python",
   "name": "python3"
  },
  "language_info": {
   "codemirror_mode": {
    "name": "ipython",
    "version": 3
   },
   "file_extension": ".py",
   "mimetype": "text/x-python",
   "name": "python",
   "nbconvert_exporter": "python",
   "pygments_lexer": "ipython3",
   "version": "3.11.3"
  }
 },
 "nbformat": 4,
 "nbformat_minor": 5
}
